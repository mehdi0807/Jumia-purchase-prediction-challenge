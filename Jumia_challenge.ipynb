{
 "cells": [
  {
   "cell_type": "markdown",
   "id": "a24999a5-4e70-42e3-88a8-40ebdd041b9a",
   "metadata": {
    "tags": []
   },
   "source": [
    "# Jumia purchase prediction challenge by HAICK\n",
    "Using machine learning techniques, this notebook demonstrates how to predict which items Jumia customers are likely to purchase in the next 4 months based on their past purchase history, as part of a Kaggle challenge from a datathon hosted by the `School of AI Algiers`.\n",
    "\n",
    "PS: You will find details about data files and columns in the <b>Read me</b> file"
   ]
  },
  {
   "cell_type": "markdown",
   "id": "bcbb56ef-7ffc-4032-8472-8610d5857a87",
   "metadata": {
    "tags": []
   },
   "source": [
    "## Importing packages and data:\n",
    "Packages used :<br>\n",
    "- Pandas\n",
    "- NumPy\n",
    "- Matplotlib\n",
    "- Seaborn\n",
    "- Scikit-learn\n",
    "- LGBM"
   ]
  },
  {
   "cell_type": "code",
   "execution_count": 1,
   "id": "92ce9b29-5d23-412a-8571-36a7eeefec0b",
   "metadata": {},
   "outputs": [
    {
     "data": {
      "text/plain": [
       "RandomState(MT19937) at 0x2262076AA40"
      ]
     },
     "execution_count": 1,
     "metadata": {},
     "output_type": "execute_result"
    }
   ],
   "source": [
    "import pandas as pd\n",
    "import numpy as np\n",
    "import datetime as dt\n",
    "import matplotlib.pyplot as plt\n",
    "import seaborn as sns\n",
    "sns.set()\n",
    "\n",
    "from sklearn.preprocessing import StandardScaler\n",
    "from lightgbm import LGBMClassifier\n",
    "\n",
    "from sklearn.model_selection import GridSearchCV\n",
    "from sklearn.model_selection import RandomizedSearchCV\n",
    "\n",
    "import warnings \n",
    "warnings.filterwarnings(\"ignore\")\n",
    "\n",
    "np.random.seed(42)\n",
    "np.random.RandomState(42)"
   ]
  },
  {
   "cell_type": "code",
   "execution_count": 2,
   "id": "f3841bc7-ba25-4552-bfff-35e06df10472",
   "metadata": {},
   "outputs": [],
   "source": [
    "train_set = pd.read_csv('jum_train.csv')\n",
    "test_set = pd.read_csv('jum_test.csv')"
   ]
  },
  {
   "cell_type": "code",
   "execution_count": 3,
   "id": "b3fef6c2-0fae-4e42-a4f4-c865f85c927b",
   "metadata": {},
   "outputs": [
    {
     "data": {
      "text/html": [
       "<div>\n",
       "<style scoped>\n",
       "    .dataframe tbody tr th:only-of-type {\n",
       "        vertical-align: middle;\n",
       "    }\n",
       "\n",
       "    .dataframe tbody tr th {\n",
       "        vertical-align: top;\n",
       "    }\n",
       "\n",
       "    .dataframe thead th {\n",
       "        text-align: right;\n",
       "    }\n",
       "</style>\n",
       "<table border=\"1\" class=\"dataframe\">\n",
       "  <thead>\n",
       "    <tr style=\"text-align: right;\">\n",
       "      <th></th>\n",
       "      <th>Cust_id</th>\n",
       "      <th>id_purchase</th>\n",
       "      <th>CAT I</th>\n",
       "      <th>CAT II</th>\n",
       "      <th>revenue ( $ Algérien)</th>\n",
       "      <th>city</th>\n",
       "      <th>platform</th>\n",
       "      <th>gender</th>\n",
       "      <th>Order date</th>\n",
       "      <th>month</th>\n",
       "    </tr>\n",
       "  </thead>\n",
       "  <tbody>\n",
       "    <tr>\n",
       "      <th>19961</th>\n",
       "      <td>324660</td>\n",
       "      <td>5073DZ8593</td>\n",
       "      <td>Enfants et bébés</td>\n",
       "      <td>Couche</td>\n",
       "      <td>20227.0</td>\n",
       "      <td>A</td>\n",
       "      <td>Web</td>\n",
       "      <td>male</td>\n",
       "      <td>2022-09-06</td>\n",
       "      <td>9</td>\n",
       "    </tr>\n",
       "    <tr>\n",
       "      <th>20357</th>\n",
       "      <td>325290</td>\n",
       "      <td>4023DZ8711</td>\n",
       "      <td>Vêtements pour femmes</td>\n",
       "      <td>Vêtements de nuit</td>\n",
       "      <td>428277.0</td>\n",
       "      <td>A</td>\n",
       "      <td>Web</td>\n",
       "      <td>female</td>\n",
       "      <td>2022-08-23</td>\n",
       "      <td>8</td>\n",
       "    </tr>\n",
       "    <tr>\n",
       "      <th>2325</th>\n",
       "      <td>176851</td>\n",
       "      <td>3144DZ8490</td>\n",
       "      <td>Appareils ménagers</td>\n",
       "      <td>Réfrigérateurs et congélateurs</td>\n",
       "      <td>163669.0</td>\n",
       "      <td>A</td>\n",
       "      <td>Web</td>\n",
       "      <td>male</td>\n",
       "      <td>2022-08-23</td>\n",
       "      <td>8</td>\n",
       "    </tr>\n",
       "    <tr>\n",
       "      <th>20413</th>\n",
       "      <td>325365</td>\n",
       "      <td>3073DZ8716</td>\n",
       "      <td>Vêtements pour femmes</td>\n",
       "      <td>Jeans et jeggings</td>\n",
       "      <td>437889.0</td>\n",
       "      <td>A</td>\n",
       "      <td>Web</td>\n",
       "      <td>male</td>\n",
       "      <td>2022-08-25</td>\n",
       "      <td>8</td>\n",
       "    </tr>\n",
       "    <tr>\n",
       "      <th>10153</th>\n",
       "      <td>260716</td>\n",
       "      <td>3197DZ8541</td>\n",
       "      <td>Chaussures pour hommes</td>\n",
       "      <td>Chaussures de sport</td>\n",
       "      <td>430895.0</td>\n",
       "      <td>A</td>\n",
       "      <td>Web</td>\n",
       "      <td>male</td>\n",
       "      <td>2022-09-23</td>\n",
       "      <td>9</td>\n",
       "    </tr>\n",
       "  </tbody>\n",
       "</table>\n",
       "</div>"
      ],
      "text/plain": [
       "       Cust_id id_purchase                   CAT I  \\\n",
       "19961   324660  5073DZ8593        Enfants et bébés   \n",
       "20357   325290  4023DZ8711   Vêtements pour femmes   \n",
       "2325    176851  3144DZ8490      Appareils ménagers   \n",
       "20413   325365  3073DZ8716   Vêtements pour femmes   \n",
       "10153   260716  3197DZ8541  Chaussures pour hommes   \n",
       "\n",
       "                               CAT II  revenue ( $ Algérien) city platform  \\\n",
       "19961                          Couche                20227.0    A      Web   \n",
       "20357               Vêtements de nuit               428277.0    A      Web   \n",
       "2325   Réfrigérateurs et congélateurs               163669.0    A      Web   \n",
       "20413               Jeans et jeggings               437889.0    A      Web   \n",
       "10153             Chaussures de sport               430895.0    A      Web   \n",
       "\n",
       "       gender  Order date  month  \n",
       "19961    male  2022-09-06      9  \n",
       "20357  female  2022-08-23      8  \n",
       "2325     male  2022-08-23      8  \n",
       "20413    male  2022-08-25      8  \n",
       "10153    male  2022-09-23      9  "
      ]
     },
     "execution_count": 3,
     "metadata": {},
     "output_type": "execute_result"
    }
   ],
   "source": [
    "train_set.sample(5)"
   ]
  },
  {
   "cell_type": "code",
   "execution_count": 4,
   "id": "e383bf64-85f8-4e40-8bea-74f93ab877fa",
   "metadata": {},
   "outputs": [
    {
     "data": {
      "text/html": [
       "<div>\n",
       "<style scoped>\n",
       "    .dataframe tbody tr th:only-of-type {\n",
       "        vertical-align: middle;\n",
       "    }\n",
       "\n",
       "    .dataframe tbody tr th {\n",
       "        vertical-align: top;\n",
       "    }\n",
       "\n",
       "    .dataframe thead th {\n",
       "        text-align: right;\n",
       "    }\n",
       "</style>\n",
       "<table border=\"1\" class=\"dataframe\">\n",
       "  <thead>\n",
       "    <tr style=\"text-align: right;\">\n",
       "      <th></th>\n",
       "      <th>Cust_id</th>\n",
       "      <th>id_purchase</th>\n",
       "      <th>CAT I</th>\n",
       "      <th>CAT II</th>\n",
       "      <th>revenue ( $ Algérien)</th>\n",
       "      <th>city</th>\n",
       "      <th>platform</th>\n",
       "      <th>gender</th>\n",
       "      <th>Order date</th>\n",
       "      <th>month</th>\n",
       "    </tr>\n",
       "  </thead>\n",
       "  <tbody>\n",
       "    <tr>\n",
       "      <th>1854</th>\n",
       "      <td>277843</td>\n",
       "      <td>7253DZ8654</td>\n",
       "      <td>Maison</td>\n",
       "      <td>Grils et cuisine en plein air</td>\n",
       "      <td>127398.0</td>\n",
       "      <td>A</td>\n",
       "      <td>Web</td>\n",
       "      <td>male</td>\n",
       "      <td>2022-09-16</td>\n",
       "      <td>9</td>\n",
       "    </tr>\n",
       "    <tr>\n",
       "      <th>2370</th>\n",
       "      <td>305633</td>\n",
       "      <td>0793DZ8571</td>\n",
       "      <td>Soins de la maison</td>\n",
       "      <td>Outils de nettoyage</td>\n",
       "      <td>419487.0</td>\n",
       "      <td>B</td>\n",
       "      <td>Web</td>\n",
       "      <td>male</td>\n",
       "      <td>2022-09-13</td>\n",
       "      <td>9</td>\n",
       "    </tr>\n",
       "    <tr>\n",
       "      <th>501</th>\n",
       "      <td>175828</td>\n",
       "      <td>4484DZ8590</td>\n",
       "      <td>Appareils ménagers</td>\n",
       "      <td>Réfrigérateurs et congélateurs</td>\n",
       "      <td>185722.0</td>\n",
       "      <td>A</td>\n",
       "      <td>Web</td>\n",
       "      <td>male</td>\n",
       "      <td>2022-09-23</td>\n",
       "      <td>9</td>\n",
       "    </tr>\n",
       "    <tr>\n",
       "      <th>1761</th>\n",
       "      <td>273502</td>\n",
       "      <td>9619DZ8648</td>\n",
       "      <td>Informatique</td>\n",
       "      <td>Fournitures</td>\n",
       "      <td>64329.0</td>\n",
       "      <td>B</td>\n",
       "      <td>Web</td>\n",
       "      <td>male</td>\n",
       "      <td>2022-07-21</td>\n",
       "      <td>7</td>\n",
       "    </tr>\n",
       "    <tr>\n",
       "      <th>1675</th>\n",
       "      <td>266777</td>\n",
       "      <td>8131DZ8488</td>\n",
       "      <td>Filles</td>\n",
       "      <td>Accessoires</td>\n",
       "      <td>102818.0</td>\n",
       "      <td>A</td>\n",
       "      <td>Web</td>\n",
       "      <td>female</td>\n",
       "      <td>2022-08-05</td>\n",
       "      <td>8</td>\n",
       "    </tr>\n",
       "  </tbody>\n",
       "</table>\n",
       "</div>"
      ],
      "text/plain": [
       "      Cust_id id_purchase               CAT I                          CAT II  \\\n",
       "1854   277843  7253DZ8654              Maison   Grils et cuisine en plein air   \n",
       "2370   305633  0793DZ8571  Soins de la maison             Outils de nettoyage   \n",
       "501    175828  4484DZ8590  Appareils ménagers  Réfrigérateurs et congélateurs   \n",
       "1761   273502  9619DZ8648        Informatique                     Fournitures   \n",
       "1675   266777  8131DZ8488              Filles                     Accessoires   \n",
       "\n",
       "      revenue ( $ Algérien) city platform  gender  Order date  month  \n",
       "1854               127398.0    A      Web    male  2022-09-16      9  \n",
       "2370               419487.0    B      Web    male  2022-09-13      9  \n",
       "501                185722.0    A      Web    male  2022-09-23      9  \n",
       "1761                64329.0    B      Web    male  2022-07-21      7  \n",
       "1675               102818.0    A      Web  female  2022-08-05      8  "
      ]
     },
     "execution_count": 4,
     "metadata": {},
     "output_type": "execute_result"
    }
   ],
   "source": [
    "test_set.sample(5)"
   ]
  },
  {
   "cell_type": "markdown",
   "id": "efba8108-4647-415e-a8da-90268c0abbb0",
   "metadata": {},
   "source": [
    "<br>This is a function I generally use to summarize information about my sets :"
   ]
  },
  {
   "cell_type": "code",
   "execution_count": 5,
   "id": "186c58c2-9d9b-4fdf-b4d9-719d0861bc64",
   "metadata": {},
   "outputs": [],
   "source": [
    "def summary(data) : \n",
    "    \"\"\" Take a pandas dataframe and create a summary about missing values \"\"\"\n",
    "    result = (pd.DataFrame(data.dtypes, columns=[\"Data Type\"]).reset_index().rename(columns={'index': 'Column'}))\n",
    "    result[\"Unique\"] = data.nunique().values\n",
    "    result[\"Null\"] = data.isna().sum().values\n",
    "    result[\"%null\"] = np.round(data.isna().sum().values / data.shape[0] * 100, decimals=2)\n",
    "    return result"
   ]
  },
  {
   "cell_type": "code",
   "execution_count": 6,
   "id": "f062c67e-2be9-4725-9712-cfbade1175a6",
   "metadata": {},
   "outputs": [
    {
     "data": {
      "text/html": [
       "<div>\n",
       "<style scoped>\n",
       "    .dataframe tbody tr th:only-of-type {\n",
       "        vertical-align: middle;\n",
       "    }\n",
       "\n",
       "    .dataframe tbody tr th {\n",
       "        vertical-align: top;\n",
       "    }\n",
       "\n",
       "    .dataframe thead th {\n",
       "        text-align: right;\n",
       "    }\n",
       "</style>\n",
       "<table border=\"1\" class=\"dataframe\">\n",
       "  <thead>\n",
       "    <tr style=\"text-align: right;\">\n",
       "      <th></th>\n",
       "      <th>Column</th>\n",
       "      <th>Data Type</th>\n",
       "      <th>Unique</th>\n",
       "      <th>Null</th>\n",
       "      <th>%null</th>\n",
       "    </tr>\n",
       "  </thead>\n",
       "  <tbody>\n",
       "    <tr>\n",
       "      <th>0</th>\n",
       "      <td>Cust_id</td>\n",
       "      <td>int64</td>\n",
       "      <td>10605</td>\n",
       "      <td>0</td>\n",
       "      <td>0.0</td>\n",
       "    </tr>\n",
       "    <tr>\n",
       "      <th>1</th>\n",
       "      <td>id_purchase</td>\n",
       "      <td>object</td>\n",
       "      <td>28370</td>\n",
       "      <td>0</td>\n",
       "      <td>0.0</td>\n",
       "    </tr>\n",
       "    <tr>\n",
       "      <th>2</th>\n",
       "      <td>CAT I</td>\n",
       "      <td>object</td>\n",
       "      <td>31</td>\n",
       "      <td>0</td>\n",
       "      <td>0.0</td>\n",
       "    </tr>\n",
       "    <tr>\n",
       "      <th>3</th>\n",
       "      <td>CAT II</td>\n",
       "      <td>object</td>\n",
       "      <td>47</td>\n",
       "      <td>0</td>\n",
       "      <td>0.0</td>\n",
       "    </tr>\n",
       "    <tr>\n",
       "      <th>4</th>\n",
       "      <td>revenue ( $ Algérien)</td>\n",
       "      <td>float64</td>\n",
       "      <td>27608</td>\n",
       "      <td>0</td>\n",
       "      <td>0.0</td>\n",
       "    </tr>\n",
       "    <tr>\n",
       "      <th>5</th>\n",
       "      <td>city</td>\n",
       "      <td>object</td>\n",
       "      <td>3</td>\n",
       "      <td>0</td>\n",
       "      <td>0.0</td>\n",
       "    </tr>\n",
       "    <tr>\n",
       "      <th>6</th>\n",
       "      <td>platform</td>\n",
       "      <td>object</td>\n",
       "      <td>2</td>\n",
       "      <td>0</td>\n",
       "      <td>0.0</td>\n",
       "    </tr>\n",
       "    <tr>\n",
       "      <th>7</th>\n",
       "      <td>gender</td>\n",
       "      <td>object</td>\n",
       "      <td>2</td>\n",
       "      <td>0</td>\n",
       "      <td>0.0</td>\n",
       "    </tr>\n",
       "    <tr>\n",
       "      <th>8</th>\n",
       "      <td>Order date</td>\n",
       "      <td>object</td>\n",
       "      <td>161</td>\n",
       "      <td>0</td>\n",
       "      <td>0.0</td>\n",
       "    </tr>\n",
       "    <tr>\n",
       "      <th>9</th>\n",
       "      <td>month</td>\n",
       "      <td>int64</td>\n",
       "      <td>7</td>\n",
       "      <td>0</td>\n",
       "      <td>0.0</td>\n",
       "    </tr>\n",
       "  </tbody>\n",
       "</table>\n",
       "</div>"
      ],
      "text/plain": [
       "                  Column Data Type  Unique  Null  %null\n",
       "0                Cust_id     int64   10605     0    0.0\n",
       "1            id_purchase    object   28370     0    0.0\n",
       "2                  CAT I    object      31     0    0.0\n",
       "3                 CAT II    object      47     0    0.0\n",
       "4  revenue ( $ Algérien)   float64   27608     0    0.0\n",
       "5                   city    object       3     0    0.0\n",
       "6               platform    object       2     0    0.0\n",
       "7                 gender    object       2     0    0.0\n",
       "8             Order date    object     161     0    0.0\n",
       "9                  month     int64       7     0    0.0"
      ]
     },
     "execution_count": 6,
     "metadata": {},
     "output_type": "execute_result"
    }
   ],
   "source": [
    "summary(train_set)"
   ]
  },
  {
   "cell_type": "code",
   "execution_count": 7,
   "id": "872213eb-1014-43f5-9faf-5fce31e9741c",
   "metadata": {},
   "outputs": [
    {
     "data": {
      "text/html": [
       "<div>\n",
       "<style scoped>\n",
       "    .dataframe tbody tr th:only-of-type {\n",
       "        vertical-align: middle;\n",
       "    }\n",
       "\n",
       "    .dataframe tbody tr th {\n",
       "        vertical-align: top;\n",
       "    }\n",
       "\n",
       "    .dataframe thead th {\n",
       "        text-align: right;\n",
       "    }\n",
       "</style>\n",
       "<table border=\"1\" class=\"dataframe\">\n",
       "  <thead>\n",
       "    <tr style=\"text-align: right;\">\n",
       "      <th></th>\n",
       "      <th>Column</th>\n",
       "      <th>Data Type</th>\n",
       "      <th>Unique</th>\n",
       "      <th>Null</th>\n",
       "      <th>%null</th>\n",
       "    </tr>\n",
       "  </thead>\n",
       "  <tbody>\n",
       "    <tr>\n",
       "      <th>0</th>\n",
       "      <td>Cust_id</td>\n",
       "      <td>int64</td>\n",
       "      <td>2500</td>\n",
       "      <td>0</td>\n",
       "      <td>0.0</td>\n",
       "    </tr>\n",
       "    <tr>\n",
       "      <th>1</th>\n",
       "      <td>id_purchase</td>\n",
       "      <td>object</td>\n",
       "      <td>4479</td>\n",
       "      <td>0</td>\n",
       "      <td>0.0</td>\n",
       "    </tr>\n",
       "    <tr>\n",
       "      <th>2</th>\n",
       "      <td>CAT I</td>\n",
       "      <td>object</td>\n",
       "      <td>28</td>\n",
       "      <td>0</td>\n",
       "      <td>0.0</td>\n",
       "    </tr>\n",
       "    <tr>\n",
       "      <th>3</th>\n",
       "      <td>CAT II</td>\n",
       "      <td>object</td>\n",
       "      <td>43</td>\n",
       "      <td>0</td>\n",
       "      <td>0.0</td>\n",
       "    </tr>\n",
       "    <tr>\n",
       "      <th>4</th>\n",
       "      <td>revenue ( $ Algérien)</td>\n",
       "      <td>float64</td>\n",
       "      <td>4464</td>\n",
       "      <td>0</td>\n",
       "      <td>0.0</td>\n",
       "    </tr>\n",
       "    <tr>\n",
       "      <th>5</th>\n",
       "      <td>city</td>\n",
       "      <td>object</td>\n",
       "      <td>3</td>\n",
       "      <td>0</td>\n",
       "      <td>0.0</td>\n",
       "    </tr>\n",
       "    <tr>\n",
       "      <th>6</th>\n",
       "      <td>platform</td>\n",
       "      <td>object</td>\n",
       "      <td>2</td>\n",
       "      <td>0</td>\n",
       "      <td>0.0</td>\n",
       "    </tr>\n",
       "    <tr>\n",
       "      <th>7</th>\n",
       "      <td>gender</td>\n",
       "      <td>object</td>\n",
       "      <td>2</td>\n",
       "      <td>0</td>\n",
       "      <td>0.0</td>\n",
       "    </tr>\n",
       "    <tr>\n",
       "      <th>8</th>\n",
       "      <td>Order date</td>\n",
       "      <td>object</td>\n",
       "      <td>64</td>\n",
       "      <td>0</td>\n",
       "      <td>0.0</td>\n",
       "    </tr>\n",
       "    <tr>\n",
       "      <th>9</th>\n",
       "      <td>month</td>\n",
       "      <td>int64</td>\n",
       "      <td>3</td>\n",
       "      <td>0</td>\n",
       "      <td>0.0</td>\n",
       "    </tr>\n",
       "  </tbody>\n",
       "</table>\n",
       "</div>"
      ],
      "text/plain": [
       "                  Column Data Type  Unique  Null  %null\n",
       "0                Cust_id     int64    2500     0    0.0\n",
       "1            id_purchase    object    4479     0    0.0\n",
       "2                  CAT I    object      28     0    0.0\n",
       "3                 CAT II    object      43     0    0.0\n",
       "4  revenue ( $ Algérien)   float64    4464     0    0.0\n",
       "5                   city    object       3     0    0.0\n",
       "6               platform    object       2     0    0.0\n",
       "7                 gender    object       2     0    0.0\n",
       "8             Order date    object      64     0    0.0\n",
       "9                  month     int64       3     0    0.0"
      ]
     },
     "execution_count": 7,
     "metadata": {},
     "output_type": "execute_result"
    }
   ],
   "source": [
    "summary(test_set)"
   ]
  },
  {
   "cell_type": "markdown",
   "id": "d6bbc520-93f7-4f29-8f3a-21fb11461551",
   "metadata": {},
   "source": [
    "After analysing the submission file, I understood that we are asked to frame the problem as a binary classification problem, where the input is the `customer ID` and `item ID`, and the output is `buy` or `not buy`.<br>\n",
    "After careful consideration, I chose to approach the problem by treating the purchase history data for months 7, 8, and 9 as the training set, and the subsequent months 10, 11, 12, and 1 as the target for modeling."
   ]
  },
  {
   "cell_type": "code",
   "execution_count": 8,
   "id": "e5c8754c-3e49-4f68-84df-e91e7c1d17a3",
   "metadata": {},
   "outputs": [],
   "source": [
    "train = train_set.copy()"
   ]
  },
  {
   "cell_type": "code",
   "execution_count": 9,
   "id": "3f546029-da3e-4ddc-b549-c40487eb9767",
   "metadata": {},
   "outputs": [],
   "source": [
    "train_set = train[train['month'].isin([7, 8, 9])]"
   ]
  },
  {
   "cell_type": "code",
   "execution_count": 10,
   "id": "4e6b3c6a-b602-4944-8658-9c823bc6b706",
   "metadata": {},
   "outputs": [],
   "source": [
    "train_target = train[~train['month'].isin([7, 8, 9])]"
   ]
  },
  {
   "cell_type": "code",
   "execution_count": 11,
   "id": "2ed8d6c0-74ff-44d7-83e6-434fa4b1fda5",
   "metadata": {},
   "outputs": [
    {
     "data": {
      "text/plain": [
       "76"
      ]
     },
     "execution_count": 11,
     "metadata": {},
     "output_type": "execute_result"
    }
   ],
   "source": [
    "len(np.unique(np.concatenate((train_target['CAT I'].unique(), train_target['CAT II'].unique()), axis=0)))"
   ]
  },
  {
   "cell_type": "markdown",
   "id": "df2f85c3-386e-4962-90fe-6b3d2ff5f333",
   "metadata": {},
   "source": [
    "There is 76 unique item category in the train set.<br>\n",
    "My objective was to create a data structure that would store information on purchased items and their corresponding customers, using a list of tuples and then a pandas dataframe."
   ]
  },
  {
   "cell_type": "code",
   "execution_count": 12,
   "id": "33f250fa-efd5-4511-9aa3-c006f224a187",
   "metadata": {},
   "outputs": [],
   "source": [
    "rows = []\n",
    "for index in train_target.index:\n",
    "    customer = train_target.loc[index, 'Cust_id']\n",
    "    cat1 = train_target.loc[index, 'CAT I']\n",
    "    cat2 = train_target.loc[index, 'CAT II']\n",
    "    rows.append((customer, cat1))\n",
    "    rows.append((customer, cat2))"
   ]
  },
  {
   "cell_type": "code",
   "execution_count": 13,
   "id": "3e56f6b9-9632-41ed-b84f-9d267d88e17b",
   "metadata": {
    "tags": []
   },
   "outputs": [
    {
     "data": {
      "text/plain": [
       "[(181408, 'Appareils ménagers'),\n",
       " (181408, 'Réfrigérateurs et congélateurs'),\n",
       " (181436, 'Appareils ménagers'),\n",
       " (181436, 'Réfrigérateurs et congélateurs'),\n",
       " (181766, 'Appareils ménagers')]"
      ]
     },
     "execution_count": 13,
     "metadata": {},
     "output_type": "execute_result"
    }
   ],
   "source": [
    "rows[:5]"
   ]
  },
  {
   "cell_type": "code",
   "execution_count": 14,
   "id": "eb9ca6c0-af4b-4681-82c3-4ab3b6ae5e09",
   "metadata": {},
   "outputs": [
    {
     "data": {
      "text/html": [
       "<div>\n",
       "<style scoped>\n",
       "    .dataframe tbody tr th:only-of-type {\n",
       "        vertical-align: middle;\n",
       "    }\n",
       "\n",
       "    .dataframe tbody tr th {\n",
       "        vertical-align: top;\n",
       "    }\n",
       "\n",
       "    .dataframe thead th {\n",
       "        text-align: right;\n",
       "    }\n",
       "</style>\n",
       "<table border=\"1\" class=\"dataframe\">\n",
       "  <thead>\n",
       "    <tr style=\"text-align: right;\">\n",
       "      <th></th>\n",
       "      <th>Customer</th>\n",
       "      <th>Product</th>\n",
       "    </tr>\n",
       "  </thead>\n",
       "  <tbody>\n",
       "    <tr>\n",
       "      <th>4892</th>\n",
       "      <td>250133</td>\n",
       "      <td>Chaussures pour hommes</td>\n",
       "    </tr>\n",
       "    <tr>\n",
       "      <th>15334</th>\n",
       "      <td>156772</td>\n",
       "      <td>Accessoire femmes</td>\n",
       "    </tr>\n",
       "    <tr>\n",
       "      <th>3934</th>\n",
       "      <td>238918</td>\n",
       "      <td>Beauté et parfums</td>\n",
       "    </tr>\n",
       "    <tr>\n",
       "      <th>6127</th>\n",
       "      <td>261574</td>\n",
       "      <td>Baskets</td>\n",
       "    </tr>\n",
       "    <tr>\n",
       "      <th>11807</th>\n",
       "      <td>314480</td>\n",
       "      <td>Accessoires</td>\n",
       "    </tr>\n",
       "  </tbody>\n",
       "</table>\n",
       "</div>"
      ],
      "text/plain": [
       "       Customer                 Product\n",
       "4892     250133  Chaussures pour hommes\n",
       "15334    156772       Accessoire femmes\n",
       "3934     238918       Beauté et parfums\n",
       "6127     261574                 Baskets\n",
       "11807    314480             Accessoires"
      ]
     },
     "execution_count": 14,
     "metadata": {},
     "output_type": "execute_result"
    }
   ],
   "source": [
    "df = pd.DataFrame(rows, columns=['Customer', 'Product'])\n",
    "df.sample(5)"
   ]
  },
  {
   "cell_type": "markdown",
   "id": "9866ea30-55ec-4b72-816d-c42e678ae3f6",
   "metadata": {},
   "source": [
    "The two sets (train and test) have the same columns => I concatenated them."
   ]
  },
  {
   "cell_type": "code",
   "execution_count": 15,
   "id": "aa490a01-e6a5-4a5f-a85f-d658ece8edd6",
   "metadata": {},
   "outputs": [
    {
     "data": {
      "text/html": [
       "<div>\n",
       "<style scoped>\n",
       "    .dataframe tbody tr th:only-of-type {\n",
       "        vertical-align: middle;\n",
       "    }\n",
       "\n",
       "    .dataframe tbody tr th {\n",
       "        vertical-align: top;\n",
       "    }\n",
       "\n",
       "    .dataframe thead th {\n",
       "        text-align: right;\n",
       "    }\n",
       "</style>\n",
       "<table border=\"1\" class=\"dataframe\">\n",
       "  <thead>\n",
       "    <tr style=\"text-align: right;\">\n",
       "      <th></th>\n",
       "      <th>Cust_id</th>\n",
       "      <th>id_purchase</th>\n",
       "      <th>CAT I</th>\n",
       "      <th>CAT II</th>\n",
       "      <th>revenue ( $ Algérien)</th>\n",
       "      <th>city</th>\n",
       "      <th>platform</th>\n",
       "      <th>gender</th>\n",
       "      <th>Order date</th>\n",
       "      <th>month</th>\n",
       "    </tr>\n",
       "  </thead>\n",
       "  <tbody>\n",
       "    <tr>\n",
       "      <th>28370</th>\n",
       "      <td>153925</td>\n",
       "      <td>9137DZ8685</td>\n",
       "      <td>Accessoire femmes</td>\n",
       "      <td>Lunettes de soleil</td>\n",
       "      <td>181672.0</td>\n",
       "      <td>A</td>\n",
       "      <td>Web</td>\n",
       "      <td>male</td>\n",
       "      <td>2022-07-19</td>\n",
       "      <td>7</td>\n",
       "    </tr>\n",
       "    <tr>\n",
       "      <th>28371</th>\n",
       "      <td>153925</td>\n",
       "      <td>3290DZ8514</td>\n",
       "      <td>Accessoire femmes</td>\n",
       "      <td>Lunettes de soleil</td>\n",
       "      <td>482394.0</td>\n",
       "      <td>A</td>\n",
       "      <td>Web</td>\n",
       "      <td>male</td>\n",
       "      <td>2022-07-19</td>\n",
       "      <td>7</td>\n",
       "    </tr>\n",
       "    <tr>\n",
       "      <th>28372</th>\n",
       "      <td>15403</td>\n",
       "      <td>5431DZ8470</td>\n",
       "      <td>Accessoire femmes</td>\n",
       "      <td>Lunettes de soleil</td>\n",
       "      <td>116073.0</td>\n",
       "      <td>A</td>\n",
       "      <td>Web</td>\n",
       "      <td>male</td>\n",
       "      <td>2022-07-20</td>\n",
       "      <td>7</td>\n",
       "    </tr>\n",
       "    <tr>\n",
       "      <th>28373</th>\n",
       "      <td>15403</td>\n",
       "      <td>6262DZ8700</td>\n",
       "      <td>Accessoire femmes</td>\n",
       "      <td>Lunettes de soleil</td>\n",
       "      <td>183709.0</td>\n",
       "      <td>A</td>\n",
       "      <td>Web</td>\n",
       "      <td>male</td>\n",
       "      <td>2022-07-20</td>\n",
       "      <td>7</td>\n",
       "    </tr>\n",
       "    <tr>\n",
       "      <th>28374</th>\n",
       "      <td>15403</td>\n",
       "      <td>8904DZ8715</td>\n",
       "      <td>Accessoire femmes</td>\n",
       "      <td>Lunettes de soleil</td>\n",
       "      <td>273851.0</td>\n",
       "      <td>A</td>\n",
       "      <td>Web</td>\n",
       "      <td>male</td>\n",
       "      <td>2022-07-21</td>\n",
       "      <td>7</td>\n",
       "    </tr>\n",
       "  </tbody>\n",
       "</table>\n",
       "</div>"
      ],
      "text/plain": [
       "       Cust_id id_purchase              CAT I              CAT II  \\\n",
       "28370   153925  9137DZ8685  Accessoire femmes  Lunettes de soleil   \n",
       "28371   153925  3290DZ8514  Accessoire femmes  Lunettes de soleil   \n",
       "28372    15403  5431DZ8470  Accessoire femmes  Lunettes de soleil   \n",
       "28373    15403  6262DZ8700  Accessoire femmes  Lunettes de soleil   \n",
       "28374    15403  8904DZ8715  Accessoire femmes  Lunettes de soleil   \n",
       "\n",
       "       revenue ( $ Algérien) city platform gender  Order date  month  \n",
       "28370               181672.0    A      Web   male  2022-07-19      7  \n",
       "28371               482394.0    A      Web   male  2022-07-19      7  \n",
       "28372               116073.0    A      Web   male  2022-07-20      7  \n",
       "28373               183709.0    A      Web   male  2022-07-20      7  \n",
       "28374               273851.0    A      Web   male  2022-07-21      7  "
      ]
     },
     "execution_count": 15,
     "metadata": {},
     "output_type": "execute_result"
    }
   ],
   "source": [
    "test_set.index = test_set.index + train_set.tail(1).index.values[0]+1\n",
    "test_set.head()"
   ]
  },
  {
   "cell_type": "code",
   "execution_count": 16,
   "id": "667fd868-df71-449c-bdd8-b8cf70c36c7a",
   "metadata": {},
   "outputs": [
    {
     "data": {
      "text/html": [
       "<div>\n",
       "<style scoped>\n",
       "    .dataframe tbody tr th:only-of-type {\n",
       "        vertical-align: middle;\n",
       "    }\n",
       "\n",
       "    .dataframe tbody tr th {\n",
       "        vertical-align: top;\n",
       "    }\n",
       "\n",
       "    .dataframe thead th {\n",
       "        text-align: right;\n",
       "    }\n",
       "</style>\n",
       "<table border=\"1\" class=\"dataframe\">\n",
       "  <thead>\n",
       "    <tr style=\"text-align: right;\">\n",
       "      <th></th>\n",
       "      <th>Cust_id</th>\n",
       "      <th>id_purchase</th>\n",
       "      <th>CAT I</th>\n",
       "      <th>CAT II</th>\n",
       "      <th>revenue ( $ Algérien)</th>\n",
       "      <th>city</th>\n",
       "      <th>platform</th>\n",
       "      <th>gender</th>\n",
       "      <th>Order date</th>\n",
       "      <th>month</th>\n",
       "    </tr>\n",
       "  </thead>\n",
       "  <tbody>\n",
       "    <tr>\n",
       "      <th>0</th>\n",
       "      <td>153926</td>\n",
       "      <td>5774DZ8526</td>\n",
       "      <td>Accessoire femmes</td>\n",
       "      <td>Sacs</td>\n",
       "      <td>55251.0</td>\n",
       "      <td>A</td>\n",
       "      <td>Web</td>\n",
       "      <td>male</td>\n",
       "      <td>2022-07-19</td>\n",
       "      <td>7</td>\n",
       "    </tr>\n",
       "    <tr>\n",
       "      <th>1</th>\n",
       "      <td>153929</td>\n",
       "      <td>4224DZ8573</td>\n",
       "      <td>Accessoire femmes</td>\n",
       "      <td>Lunettes de soleil</td>\n",
       "      <td>444479.0</td>\n",
       "      <td>A</td>\n",
       "      <td>Web</td>\n",
       "      <td>male</td>\n",
       "      <td>2022-07-19</td>\n",
       "      <td>7</td>\n",
       "    </tr>\n",
       "    <tr>\n",
       "      <th>2</th>\n",
       "      <td>153935</td>\n",
       "      <td>7178DZ8657</td>\n",
       "      <td>Accessoire femmes</td>\n",
       "      <td>Lunettes de soleil</td>\n",
       "      <td>242911.0</td>\n",
       "      <td>A</td>\n",
       "      <td>Web</td>\n",
       "      <td>female</td>\n",
       "      <td>2022-07-19</td>\n",
       "      <td>7</td>\n",
       "    </tr>\n",
       "    <tr>\n",
       "      <th>3</th>\n",
       "      <td>153935</td>\n",
       "      <td>3598DZ8583</td>\n",
       "      <td>Accessoire femmes</td>\n",
       "      <td>Lunettes de soleil</td>\n",
       "      <td>267374.0</td>\n",
       "      <td>A</td>\n",
       "      <td>Web</td>\n",
       "      <td>female</td>\n",
       "      <td>2022-07-20</td>\n",
       "      <td>7</td>\n",
       "    </tr>\n",
       "    <tr>\n",
       "      <th>4</th>\n",
       "      <td>153950</td>\n",
       "      <td>5142DZ8612</td>\n",
       "      <td>Accessoire femmes</td>\n",
       "      <td>Sacs</td>\n",
       "      <td>102590.0</td>\n",
       "      <td>A</td>\n",
       "      <td>Web</td>\n",
       "      <td>female</td>\n",
       "      <td>2022-07-19</td>\n",
       "      <td>7</td>\n",
       "    </tr>\n",
       "  </tbody>\n",
       "</table>\n",
       "</div>"
      ],
      "text/plain": [
       "   Cust_id id_purchase              CAT I              CAT II  \\\n",
       "0   153926  5774DZ8526  Accessoire femmes                Sacs   \n",
       "1   153929  4224DZ8573  Accessoire femmes  Lunettes de soleil   \n",
       "2   153935  7178DZ8657  Accessoire femmes  Lunettes de soleil   \n",
       "3   153935  3598DZ8583  Accessoire femmes  Lunettes de soleil   \n",
       "4   153950  5142DZ8612  Accessoire femmes                Sacs   \n",
       "\n",
       "   revenue ( $ Algérien) city platform  gender  Order date  month  \n",
       "0                55251.0    A      Web    male  2022-07-19      7  \n",
       "1               444479.0    A      Web    male  2022-07-19      7  \n",
       "2               242911.0    A      Web  female  2022-07-19      7  \n",
       "3               267374.0    A      Web  female  2022-07-20      7  \n",
       "4               102590.0    A      Web  female  2022-07-19      7  "
      ]
     },
     "execution_count": 16,
     "metadata": {},
     "output_type": "execute_result"
    }
   ],
   "source": [
    "all_data = pd.concat([train_set, test_set])\n",
    "all_data.head()"
   ]
  },
  {
   "cell_type": "code",
   "execution_count": 17,
   "id": "3b8dc16c-f017-49eb-9f48-541a8e6ce9f3",
   "metadata": {},
   "outputs": [
    {
     "data": {
      "text/plain": [
       "A    84.612416\n",
       "B    11.760418\n",
       "C     3.627165\n",
       "Name: city, dtype: float64"
      ]
     },
     "execution_count": 17,
     "metadata": {},
     "output_type": "execute_result"
    }
   ],
   "source": [
    "all_data['city'].value_counts(normalize=True)*100"
   ]
  },
  {
   "cell_type": "code",
   "execution_count": 18,
   "id": "9ba0d8a7-884a-48bb-9d26-83cbe5e77b53",
   "metadata": {},
   "outputs": [
    {
     "data": {
      "text/plain": [
       "Web     75.510204\n",
       "App     24.489796\n",
       "Name: platform, dtype: float64"
      ]
     },
     "execution_count": 18,
     "metadata": {},
     "output_type": "execute_result"
    }
   ],
   "source": [
    "all_data['platform'].value_counts(normalize=True)*100"
   ]
  },
  {
   "cell_type": "code",
   "execution_count": 19,
   "id": "a79614f1-12fb-46e7-9b58-a81a637018ac",
   "metadata": {},
   "outputs": [
    {
     "data": {
      "text/plain": [
       "male      63.196707\n",
       "female    36.803293\n",
       "Name: gender, dtype: float64"
      ]
     },
     "execution_count": 19,
     "metadata": {},
     "output_type": "execute_result"
    }
   ],
   "source": [
    "all_data['gender'].value_counts(normalize=True)*100"
   ]
  },
  {
   "cell_type": "markdown",
   "id": "f3158ebe",
   "metadata": {},
   "source": [
    "## Feature Engineering:"
   ]
  },
  {
   "cell_type": "code",
   "execution_count": 20,
   "id": "fe177f62-b999-4349-bb16-9e4cd475c189",
   "metadata": {},
   "outputs": [],
   "source": [
    "all_data['gender'] = all_data['gender'].map({'male':1 , 'female':0})\n",
    "all_data['platform'] = all_data['platform'].map({'Web':1 , 'App ':0})\n",
    "for col in ['platform', 'gender']:\n",
    "    all_data[col] = all_data[col].astype('category')"
   ]
  },
  {
   "cell_type": "code",
   "execution_count": 21,
   "id": "8b30cd35-e30f-4dd0-80ca-de8b891456fa",
   "metadata": {},
   "outputs": [
    {
     "data": {
      "text/html": [
       "<div>\n",
       "<style scoped>\n",
       "    .dataframe tbody tr th:only-of-type {\n",
       "        vertical-align: middle;\n",
       "    }\n",
       "\n",
       "    .dataframe tbody tr th {\n",
       "        vertical-align: top;\n",
       "    }\n",
       "\n",
       "    .dataframe thead th {\n",
       "        text-align: right;\n",
       "    }\n",
       "</style>\n",
       "<table border=\"1\" class=\"dataframe\">\n",
       "  <thead>\n",
       "    <tr style=\"text-align: right;\">\n",
       "      <th></th>\n",
       "      <th>Cust_id</th>\n",
       "      <th>id_purchase</th>\n",
       "      <th>CAT I</th>\n",
       "      <th>CAT II</th>\n",
       "      <th>revenue ( $ Algérien)</th>\n",
       "      <th>city</th>\n",
       "      <th>platform</th>\n",
       "      <th>gender</th>\n",
       "      <th>Order date</th>\n",
       "      <th>month</th>\n",
       "    </tr>\n",
       "  </thead>\n",
       "  <tbody>\n",
       "    <tr>\n",
       "      <th>8687</th>\n",
       "      <td>247389</td>\n",
       "      <td>7105DZ8556</td>\n",
       "      <td>Chaussures pour hommes</td>\n",
       "      <td>Chaussures de sport</td>\n",
       "      <td>286237.0</td>\n",
       "      <td>A</td>\n",
       "      <td>1</td>\n",
       "      <td>1</td>\n",
       "      <td>2022-09-18</td>\n",
       "      <td>9</td>\n",
       "    </tr>\n",
       "    <tr>\n",
       "      <th>30747</th>\n",
       "      <td>305650</td>\n",
       "      <td>9912DZ8594</td>\n",
       "      <td>Soins de la maison</td>\n",
       "      <td>Outils de nettoyage</td>\n",
       "      <td>422924.0</td>\n",
       "      <td>B</td>\n",
       "      <td>1</td>\n",
       "      <td>1</td>\n",
       "      <td>2022-08-08</td>\n",
       "      <td>8</td>\n",
       "    </tr>\n",
       "    <tr>\n",
       "      <th>21812</th>\n",
       "      <td>328112</td>\n",
       "      <td>9361DZ8585</td>\n",
       "      <td>Vêtements pour hommes</td>\n",
       "      <td>Polos</td>\n",
       "      <td>460665.0</td>\n",
       "      <td>A</td>\n",
       "      <td>1</td>\n",
       "      <td>0</td>\n",
       "      <td>2022-08-19</td>\n",
       "      <td>8</td>\n",
       "    </tr>\n",
       "    <tr>\n",
       "      <th>5603</th>\n",
       "      <td>210637</td>\n",
       "      <td>6959DZ8671</td>\n",
       "      <td>Beauté et parfums</td>\n",
       "      <td>Carrosserie</td>\n",
       "      <td>271947.0</td>\n",
       "      <td>A</td>\n",
       "      <td>1</td>\n",
       "      <td>1</td>\n",
       "      <td>2022-08-14</td>\n",
       "      <td>8</td>\n",
       "    </tr>\n",
       "    <tr>\n",
       "      <th>29194</th>\n",
       "      <td>195963</td>\n",
       "      <td>1644DZ8586</td>\n",
       "      <td>Automobile et motocycles</td>\n",
       "      <td>Motos</td>\n",
       "      <td>428139.0</td>\n",
       "      <td>A</td>\n",
       "      <td>1</td>\n",
       "      <td>0</td>\n",
       "      <td>2022-08-09</td>\n",
       "      <td>8</td>\n",
       "    </tr>\n",
       "  </tbody>\n",
       "</table>\n",
       "</div>"
      ],
      "text/plain": [
       "       Cust_id id_purchase                     CAT I               CAT II  \\\n",
       "8687    247389  7105DZ8556    Chaussures pour hommes  Chaussures de sport   \n",
       "30747   305650  9912DZ8594        Soins de la maison  Outils de nettoyage   \n",
       "21812   328112  9361DZ8585     Vêtements pour hommes                Polos   \n",
       "5603    210637  6959DZ8671         Beauté et parfums          Carrosserie   \n",
       "29194   195963  1644DZ8586  Automobile et motocycles                Motos   \n",
       "\n",
       "       revenue ( $ Algérien) city platform gender  Order date  month  \n",
       "8687                286237.0    A        1      1  2022-09-18      9  \n",
       "30747               422924.0    B        1      1  2022-08-08      8  \n",
       "21812               460665.0    A        1      0  2022-08-19      8  \n",
       "5603                271947.0    A        1      1  2022-08-14      8  \n",
       "29194               428139.0    A        1      0  2022-08-09      8  "
      ]
     },
     "execution_count": 21,
     "metadata": {},
     "output_type": "execute_result"
    }
   ],
   "source": [
    "all_data.sample(5)"
   ]
  },
  {
   "cell_type": "markdown",
   "id": "90e3dc28-773f-42e5-832d-cf93d1d39d7c",
   "metadata": {},
   "source": [
    "### Encoding categorical features:"
   ]
  },
  {
   "cell_type": "code",
   "execution_count": 22,
   "id": "20b4abfb-02b5-4214-af7f-b03458666ef1",
   "metadata": {},
   "outputs": [],
   "source": [
    "data_obj_cat = all_data[['CAT I', 'CAT II']]\n",
    "data_obj_cat = pd.get_dummies(data_obj_cat , prefix='', prefix_sep='')\n",
    "for col in data_obj_cat.columns:\n",
    "    data_obj_cat[col] = data_obj_cat[col].astype('category')"
   ]
  },
  {
   "cell_type": "code",
   "execution_count": 23,
   "id": "d2478032-bb1a-477e-a85d-e1e8479947e7",
   "metadata": {},
   "outputs": [],
   "source": [
    "data = pd.concat([all_data.drop(['CAT I', 'CAT II'], axis=1),data_obj_cat],axis=1)"
   ]
  },
  {
   "cell_type": "code",
   "execution_count": 24,
   "id": "835a14ad-57ff-45a9-b6e1-ed19c9b6f533",
   "metadata": {},
   "outputs": [],
   "source": [
    "data_obj_city = all_data[['city']]\n",
    "data_obj_city = pd.get_dummies(data_obj_city)\n",
    "for col in data_obj_city.columns:\n",
    "    data_obj_city[col] = data_obj_city[col].astype('category')\n",
    "data = pd.concat([data.drop(['city'], axis=1),data_obj_city],axis=1)"
   ]
  },
  {
   "cell_type": "markdown",
   "id": "fa03b000-9dc4-4850-8a08-3bd8cfdc0ad3",
   "metadata": {},
   "source": [
    "### Date related features:"
   ]
  },
  {
   "cell_type": "code",
   "execution_count": 25,
   "id": "405be4f1-db37-4e16-840b-7f186ac5773b",
   "metadata": {},
   "outputs": [],
   "source": [
    "data['Order date'] = pd.to_datetime(data['Order date'], errors='coerce')"
   ]
  },
  {
   "cell_type": "code",
   "execution_count": 26,
   "id": "37ca81b2-b688-474f-a225-d47cb6215aea",
   "metadata": {},
   "outputs": [],
   "source": [
    "data['week_day'] = data['Order date'].dt.dayofweek.values + 1\n",
    "for index in data.index:\n",
    "    if data.loc[index, 'week_day'] == 7:\n",
    "        data.loc[index, 'week_day'] = 0"
   ]
  },
  {
   "cell_type": "code",
   "execution_count": 27,
   "id": "374b5de1-cf21-45c1-85b5-fdbf08825ab8",
   "metadata": {},
   "outputs": [],
   "source": [
    "data['day'] = data['Order date'].dt.day.values"
   ]
  },
  {
   "cell_type": "code",
   "execution_count": 28,
   "id": "19a86bd5-9b25-482e-bb64-9d1eb4c56494",
   "metadata": {},
   "outputs": [
    {
     "data": {
      "text/plain": [
       "array([19, 20, 21, 22, 24, 25, 28, 27, 29, 31,  1, 26,  2,  3,  4,  5,  7,\n",
       "        8, 10,  9, 11, 12, 14, 15, 16, 17, 18, 23, 30,  6, 13],\n",
       "      dtype=int64)"
      ]
     },
     "execution_count": 28,
     "metadata": {},
     "output_type": "execute_result"
    }
   ],
   "source": [
    "data['day'].unique()"
   ]
  },
  {
   "cell_type": "code",
   "execution_count": 29,
   "id": "6a375980-0a4f-4abe-8170-39d408aa315f",
   "metadata": {},
   "outputs": [
    {
     "data": {
      "text/plain": [
       "array([19, 20, 21, 22, 24, 25, 28, 27, 29, 31,  1, 26,  2,  3,  4,  5,  7,\n",
       "        8, 10,  9, 11, 12, 14, 15, 16, 17, 18, 23, 30,  6, 13],\n",
       "      dtype=int64)"
      ]
     },
     "execution_count": 29,
     "metadata": {},
     "output_type": "execute_result"
    }
   ],
   "source": [
    "data['Order date'].dt.day.unique()"
   ]
  },
  {
   "cell_type": "code",
   "execution_count": 30,
   "id": "e4683fe4-a52f-41e0-8f4f-07ee8f9ab88b",
   "metadata": {},
   "outputs": [],
   "source": [
    "data['dispatch_day_sin'] = np.sin(data['day']*(2.*np.pi/31)) \n",
    "data['dispatch_day_cos'] = np.cos(data['day']*(2.*np.pi/31)) \n",
    "data['dispatch_day_of_week_sin'] = np.sin(data['week_day']*(2.*np.pi/7)) \n",
    "data['dispatch_day_of_week_cos'] = np.cos(data['week_day']*(2.*np.pi/7)) "
   ]
  },
  {
   "cell_type": "code",
   "execution_count": 31,
   "id": "c7b11b48-6394-4ad1-a70e-15836e10babd",
   "metadata": {},
   "outputs": [],
   "source": [
    "data['week_day']=data['week_day'].astype('category')\n",
    "data['day']=data['day'].astype('category')"
   ]
  },
  {
   "cell_type": "markdown",
   "id": "2178f222-8255-41ff-837f-455ebe082158",
   "metadata": {
    "tags": []
   },
   "source": [
    "### Reseprating sets and more feature engineering:"
   ]
  },
  {
   "cell_type": "code",
   "execution_count": 32,
   "id": "6b72e988-c7ca-443f-b6f1-9b17a9a7c4d0",
   "metadata": {},
   "outputs": [],
   "source": [
    "train_final = data[data.index< train_set.tail(1).index.values[0]]\n",
    "test_final = data[data.index>= train_set.tail(1).index.values[0]]"
   ]
  },
  {
   "cell_type": "markdown",
   "id": "f683450e-bd5a-4269-b43e-f1103b0d0a43",
   "metadata": {},
   "source": [
    "I grouped the 2 dataframes by `Customer ID`"
   ]
  },
  {
   "cell_type": "code",
   "execution_count": 33,
   "id": "85d833fd-b8ac-47b3-8c67-de4b2b430f23",
   "metadata": {},
   "outputs": [],
   "source": [
    "dict = {}\n",
    "cat_col = []\n",
    "for col in train_final.columns:\n",
    "    if col == 'gender':\n",
    "        train_final[col] = train_final[col].astype('int64')\n",
    "        test_final[col] = test_final[col].astype('int64')\n",
    "        dict[col]='max'\n",
    "        cat_col.append(col)\n",
    "    elif col in ['week_day', 'day']:\n",
    "        train_final[col] = train_final[col].astype('int64')\n",
    "        test_final[col] = test_final[col].astype('int64')\n",
    "        dict[col]= 'max'\n",
    "        cat_col.append('week_day')\n",
    "    elif col in ['dispatch_day_sin', 'dispatch_day_cos', 'dispatch_day_of_week_sin', 'dispatch_day_of_week_cos']:\n",
    "        dict[col]='mean'\n",
    "    elif col =='revenue ( $ Algérien)':\n",
    "        dict[col]='sum'\n",
    "    elif col not in ['platform', 'month', 'week_day', 'Cust_id', 'id_purchase', 'Order date']:\n",
    "        train_final[col] = train_final[col].astype('int64')\n",
    "        test_final[col] = test_final[col].astype('int64')\n",
    "        dict[col]='sum'"
   ]
  },
  {
   "cell_type": "code",
   "execution_count": 34,
   "id": "f2c0069a-aa56-432d-95eb-ef09056ddc62",
   "metadata": {},
   "outputs": [],
   "source": [
    "train = train_final.groupby(\"Cust_id\").agg(dict)"
   ]
  },
  {
   "cell_type": "code",
   "execution_count": 35,
   "id": "72a1fb77-c2b9-4976-a541-2a2b3b01c8d6",
   "metadata": {},
   "outputs": [],
   "source": [
    "test = test_final.groupby(\"Cust_id\").agg(dict)"
   ]
  },
  {
   "cell_type": "code",
   "execution_count": 36,
   "id": "fbabf20a-5cb2-4bc2-9f28-baefde2d87d5",
   "metadata": {},
   "outputs": [],
   "source": [
    "for col in cat_col:\n",
    "    train[col] = train[col].astype('category')\n",
    "    test[col] = test[col].astype('category')"
   ]
  },
  {
   "cell_type": "code",
   "execution_count": 37,
   "id": "8b6b61bc-cc2e-45e6-91ea-31830171f156",
   "metadata": {},
   "outputs": [
    {
     "data": {
      "text/html": [
       "<div>\n",
       "<style scoped>\n",
       "    .dataframe tbody tr th:only-of-type {\n",
       "        vertical-align: middle;\n",
       "    }\n",
       "\n",
       "    .dataframe tbody tr th {\n",
       "        vertical-align: top;\n",
       "    }\n",
       "\n",
       "    .dataframe thead th {\n",
       "        text-align: right;\n",
       "    }\n",
       "</style>\n",
       "<table border=\"1\" class=\"dataframe\">\n",
       "  <thead>\n",
       "    <tr style=\"text-align: right;\">\n",
       "      <th></th>\n",
       "      <th>revenue ( $ Algérien)</th>\n",
       "      <th>gender</th>\n",
       "      <th>Accessoire femmes</th>\n",
       "      <th>Accessoires hommes</th>\n",
       "      <th>Accessoires pour femmes</th>\n",
       "      <th>Accessoires unisexes</th>\n",
       "      <th>Appareils ménagers</th>\n",
       "      <th>Appareils photo et accessoires</th>\n",
       "      <th>Automobile et motocycles</th>\n",
       "      <th>Beauté et parfums</th>\n",
       "      <th>...</th>\n",
       "      <th>iPod et lecteurs MP3</th>\n",
       "      <th>city_A</th>\n",
       "      <th>city_B</th>\n",
       "      <th>city_C</th>\n",
       "      <th>week_day</th>\n",
       "      <th>day</th>\n",
       "      <th>dispatch_day_sin</th>\n",
       "      <th>dispatch_day_cos</th>\n",
       "      <th>dispatch_day_of_week_sin</th>\n",
       "      <th>dispatch_day_of_week_cos</th>\n",
       "    </tr>\n",
       "    <tr>\n",
       "      <th>Cust_id</th>\n",
       "      <th></th>\n",
       "      <th></th>\n",
       "      <th></th>\n",
       "      <th></th>\n",
       "      <th></th>\n",
       "      <th></th>\n",
       "      <th></th>\n",
       "      <th></th>\n",
       "      <th></th>\n",
       "      <th></th>\n",
       "      <th></th>\n",
       "      <th></th>\n",
       "      <th></th>\n",
       "      <th></th>\n",
       "      <th></th>\n",
       "      <th></th>\n",
       "      <th></th>\n",
       "      <th></th>\n",
       "      <th></th>\n",
       "      <th></th>\n",
       "      <th></th>\n",
       "    </tr>\n",
       "  </thead>\n",
       "  <tbody>\n",
       "    <tr>\n",
       "      <th>16</th>\n",
       "      <td>378761.0</td>\n",
       "      <td>0</td>\n",
       "      <td>0</td>\n",
       "      <td>3</td>\n",
       "      <td>0</td>\n",
       "      <td>0</td>\n",
       "      <td>0</td>\n",
       "      <td>0</td>\n",
       "      <td>0</td>\n",
       "      <td>0</td>\n",
       "      <td>...</td>\n",
       "      <td>0</td>\n",
       "      <td>3</td>\n",
       "      <td>0</td>\n",
       "      <td>0</td>\n",
       "      <td>4</td>\n",
       "      <td>19</td>\n",
       "      <td>0.177920</td>\n",
       "      <td>-0.150635</td>\n",
       "      <td>0.505324</td>\n",
       "      <td>-0.448670</td>\n",
       "    </tr>\n",
       "    <tr>\n",
       "      <th>159</th>\n",
       "      <td>387192.0</td>\n",
       "      <td>0</td>\n",
       "      <td>0</td>\n",
       "      <td>1</td>\n",
       "      <td>0</td>\n",
       "      <td>0</td>\n",
       "      <td>0</td>\n",
       "      <td>0</td>\n",
       "      <td>0</td>\n",
       "      <td>0</td>\n",
       "      <td>...</td>\n",
       "      <td>0</td>\n",
       "      <td>1</td>\n",
       "      <td>0</td>\n",
       "      <td>0</td>\n",
       "      <td>2</td>\n",
       "      <td>9</td>\n",
       "      <td>0.968077</td>\n",
       "      <td>-0.250653</td>\n",
       "      <td>0.974928</td>\n",
       "      <td>-0.222521</td>\n",
       "    </tr>\n",
       "    <tr>\n",
       "      <th>170</th>\n",
       "      <td>442711.0</td>\n",
       "      <td>1</td>\n",
       "      <td>0</td>\n",
       "      <td>0</td>\n",
       "      <td>0</td>\n",
       "      <td>1</td>\n",
       "      <td>0</td>\n",
       "      <td>0</td>\n",
       "      <td>0</td>\n",
       "      <td>0</td>\n",
       "      <td>...</td>\n",
       "      <td>0</td>\n",
       "      <td>0</td>\n",
       "      <td>1</td>\n",
       "      <td>0</td>\n",
       "      <td>4</td>\n",
       "      <td>25</td>\n",
       "      <td>-0.937752</td>\n",
       "      <td>0.347305</td>\n",
       "      <td>-0.433884</td>\n",
       "      <td>-0.900969</td>\n",
       "    </tr>\n",
       "    <tr>\n",
       "      <th>229</th>\n",
       "      <td>351411.0</td>\n",
       "      <td>1</td>\n",
       "      <td>0</td>\n",
       "      <td>0</td>\n",
       "      <td>0</td>\n",
       "      <td>0</td>\n",
       "      <td>0</td>\n",
       "      <td>0</td>\n",
       "      <td>0</td>\n",
       "      <td>2</td>\n",
       "      <td>...</td>\n",
       "      <td>0</td>\n",
       "      <td>2</td>\n",
       "      <td>0</td>\n",
       "      <td>0</td>\n",
       "      <td>1</td>\n",
       "      <td>22</td>\n",
       "      <td>-0.334357</td>\n",
       "      <td>-0.602396</td>\n",
       "      <td>0.390916</td>\n",
       "      <td>0.811745</td>\n",
       "    </tr>\n",
       "    <tr>\n",
       "      <th>230</th>\n",
       "      <td>115296.0</td>\n",
       "      <td>1</td>\n",
       "      <td>0</td>\n",
       "      <td>0</td>\n",
       "      <td>0</td>\n",
       "      <td>0</td>\n",
       "      <td>0</td>\n",
       "      <td>0</td>\n",
       "      <td>0</td>\n",
       "      <td>2</td>\n",
       "      <td>...</td>\n",
       "      <td>0</td>\n",
       "      <td>2</td>\n",
       "      <td>0</td>\n",
       "      <td>0</td>\n",
       "      <td>5</td>\n",
       "      <td>26</td>\n",
       "      <td>-0.574004</td>\n",
       "      <td>-0.212588</td>\n",
       "      <td>-0.270522</td>\n",
       "      <td>-0.561745</td>\n",
       "    </tr>\n",
       "  </tbody>\n",
       "</table>\n",
       "<p>5 rows × 88 columns</p>\n",
       "</div>"
      ],
      "text/plain": [
       "         revenue ( $ Algérien) gender  Accessoire femmes  Accessoires hommes  \\\n",
       "Cust_id                                                                        \n",
       "16                    378761.0      0                  0                   3   \n",
       "159                   387192.0      0                  0                   1   \n",
       "170                   442711.0      1                  0                   0   \n",
       "229                   351411.0      1                  0                   0   \n",
       "230                   115296.0      1                  0                   0   \n",
       "\n",
       "         Accessoires pour femmes  Accessoires unisexes  Appareils ménagers  \\\n",
       "Cust_id                                                                      \n",
       "16                             0                     0                   0   \n",
       "159                            0                     0                   0   \n",
       "170                            0                     1                   0   \n",
       "229                            0                     0                   0   \n",
       "230                            0                     0                   0   \n",
       "\n",
       "         Appareils photo et accessoires  Automobile et motocycles  \\\n",
       "Cust_id                                                             \n",
       "16                                    0                         0   \n",
       "159                                   0                         0   \n",
       "170                                   0                         0   \n",
       "229                                   0                         0   \n",
       "230                                   0                         0   \n",
       "\n",
       "         Beauté et parfums  ...  iPod et lecteurs MP3  city_A  city_B  city_C  \\\n",
       "Cust_id                     ...                                                 \n",
       "16                       0  ...                     0       3       0       0   \n",
       "159                      0  ...                     0       1       0       0   \n",
       "170                      0  ...                     0       0       1       0   \n",
       "229                      2  ...                     0       2       0       0   \n",
       "230                      2  ...                     0       2       0       0   \n",
       "\n",
       "         week_day  day  dispatch_day_sin  dispatch_day_cos  \\\n",
       "Cust_id                                                      \n",
       "16              4   19          0.177920         -0.150635   \n",
       "159             2    9          0.968077         -0.250653   \n",
       "170             4   25         -0.937752          0.347305   \n",
       "229             1   22         -0.334357         -0.602396   \n",
       "230             5   26         -0.574004         -0.212588   \n",
       "\n",
       "         dispatch_day_of_week_sin  dispatch_day_of_week_cos  \n",
       "Cust_id                                                      \n",
       "16                       0.505324                 -0.448670  \n",
       "159                      0.974928                 -0.222521  \n",
       "170                     -0.433884                 -0.900969  \n",
       "229                      0.390916                  0.811745  \n",
       "230                     -0.270522                 -0.561745  \n",
       "\n",
       "[5 rows x 88 columns]"
      ]
     },
     "execution_count": 37,
     "metadata": {},
     "output_type": "execute_result"
    }
   ],
   "source": [
    "train.head()"
   ]
  },
  {
   "cell_type": "code",
   "execution_count": 38,
   "id": "54fdcec4-fd13-4e27-891b-b568a07a1ae1",
   "metadata": {},
   "outputs": [
    {
     "data": {
      "text/html": [
       "<div>\n",
       "<style scoped>\n",
       "    .dataframe tbody tr th:only-of-type {\n",
       "        vertical-align: middle;\n",
       "    }\n",
       "\n",
       "    .dataframe tbody tr th {\n",
       "        vertical-align: top;\n",
       "    }\n",
       "\n",
       "    .dataframe thead th {\n",
       "        text-align: right;\n",
       "    }\n",
       "</style>\n",
       "<table border=\"1\" class=\"dataframe\">\n",
       "  <thead>\n",
       "    <tr style=\"text-align: right;\">\n",
       "      <th></th>\n",
       "      <th>revenue ( $ Algérien)</th>\n",
       "      <th>gender</th>\n",
       "      <th>Accessoire femmes</th>\n",
       "      <th>Accessoires hommes</th>\n",
       "      <th>Accessoires pour femmes</th>\n",
       "      <th>Accessoires unisexes</th>\n",
       "      <th>Appareils ménagers</th>\n",
       "      <th>Appareils photo et accessoires</th>\n",
       "      <th>Automobile et motocycles</th>\n",
       "      <th>Beauté et parfums</th>\n",
       "      <th>...</th>\n",
       "      <th>iPod et lecteurs MP3</th>\n",
       "      <th>city_A</th>\n",
       "      <th>city_B</th>\n",
       "      <th>city_C</th>\n",
       "      <th>week_day</th>\n",
       "      <th>day</th>\n",
       "      <th>dispatch_day_sin</th>\n",
       "      <th>dispatch_day_cos</th>\n",
       "      <th>dispatch_day_of_week_sin</th>\n",
       "      <th>dispatch_day_of_week_cos</th>\n",
       "    </tr>\n",
       "    <tr>\n",
       "      <th>Cust_id</th>\n",
       "      <th></th>\n",
       "      <th></th>\n",
       "      <th></th>\n",
       "      <th></th>\n",
       "      <th></th>\n",
       "      <th></th>\n",
       "      <th></th>\n",
       "      <th></th>\n",
       "      <th></th>\n",
       "      <th></th>\n",
       "      <th></th>\n",
       "      <th></th>\n",
       "      <th></th>\n",
       "      <th></th>\n",
       "      <th></th>\n",
       "      <th></th>\n",
       "      <th></th>\n",
       "      <th></th>\n",
       "      <th></th>\n",
       "      <th></th>\n",
       "      <th></th>\n",
       "    </tr>\n",
       "  </thead>\n",
       "  <tbody>\n",
       "    <tr>\n",
       "      <th>1745</th>\n",
       "      <td>490115.0</td>\n",
       "      <td>1</td>\n",
       "      <td>0</td>\n",
       "      <td>0</td>\n",
       "      <td>0</td>\n",
       "      <td>1</td>\n",
       "      <td>0</td>\n",
       "      <td>0</td>\n",
       "      <td>0</td>\n",
       "      <td>0</td>\n",
       "      <td>...</td>\n",
       "      <td>0</td>\n",
       "      <td>1</td>\n",
       "      <td>0</td>\n",
       "      <td>0</td>\n",
       "      <td>4</td>\n",
       "      <td>28</td>\n",
       "      <td>-0.571268</td>\n",
       "      <td>0.820763</td>\n",
       "      <td>-0.433884</td>\n",
       "      <td>-0.900969</td>\n",
       "    </tr>\n",
       "    <tr>\n",
       "      <th>1749</th>\n",
       "      <td>1091037.0</td>\n",
       "      <td>1</td>\n",
       "      <td>0</td>\n",
       "      <td>0</td>\n",
       "      <td>0</td>\n",
       "      <td>0</td>\n",
       "      <td>3</td>\n",
       "      <td>0</td>\n",
       "      <td>0</td>\n",
       "      <td>0</td>\n",
       "      <td>...</td>\n",
       "      <td>0</td>\n",
       "      <td>3</td>\n",
       "      <td>0</td>\n",
       "      <td>0</td>\n",
       "      <td>1</td>\n",
       "      <td>18</td>\n",
       "      <td>0.272481</td>\n",
       "      <td>-0.797288</td>\n",
       "      <td>0.521221</td>\n",
       "      <td>0.748993</td>\n",
       "    </tr>\n",
       "    <tr>\n",
       "      <th>2003</th>\n",
       "      <td>434958.0</td>\n",
       "      <td>0</td>\n",
       "      <td>0</td>\n",
       "      <td>0</td>\n",
       "      <td>0</td>\n",
       "      <td>0</td>\n",
       "      <td>0</td>\n",
       "      <td>0</td>\n",
       "      <td>0</td>\n",
       "      <td>1</td>\n",
       "      <td>...</td>\n",
       "      <td>0</td>\n",
       "      <td>1</td>\n",
       "      <td>0</td>\n",
       "      <td>0</td>\n",
       "      <td>5</td>\n",
       "      <td>22</td>\n",
       "      <td>-0.968077</td>\n",
       "      <td>-0.250653</td>\n",
       "      <td>-0.974928</td>\n",
       "      <td>-0.222521</td>\n",
       "    </tr>\n",
       "    <tr>\n",
       "      <th>2055</th>\n",
       "      <td>119155.0</td>\n",
       "      <td>0</td>\n",
       "      <td>0</td>\n",
       "      <td>0</td>\n",
       "      <td>0</td>\n",
       "      <td>0</td>\n",
       "      <td>0</td>\n",
       "      <td>0</td>\n",
       "      <td>0</td>\n",
       "      <td>1</td>\n",
       "      <td>...</td>\n",
       "      <td>0</td>\n",
       "      <td>1</td>\n",
       "      <td>0</td>\n",
       "      <td>0</td>\n",
       "      <td>1</td>\n",
       "      <td>25</td>\n",
       "      <td>-0.937752</td>\n",
       "      <td>0.347305</td>\n",
       "      <td>0.781831</td>\n",
       "      <td>0.623490</td>\n",
       "    </tr>\n",
       "    <tr>\n",
       "      <th>2392</th>\n",
       "      <td>276692.0</td>\n",
       "      <td>0</td>\n",
       "      <td>0</td>\n",
       "      <td>0</td>\n",
       "      <td>0</td>\n",
       "      <td>0</td>\n",
       "      <td>0</td>\n",
       "      <td>0</td>\n",
       "      <td>0</td>\n",
       "      <td>1</td>\n",
       "      <td>...</td>\n",
       "      <td>0</td>\n",
       "      <td>0</td>\n",
       "      <td>1</td>\n",
       "      <td>0</td>\n",
       "      <td>2</td>\n",
       "      <td>27</td>\n",
       "      <td>-0.724793</td>\n",
       "      <td>0.688967</td>\n",
       "      <td>0.974928</td>\n",
       "      <td>-0.222521</td>\n",
       "    </tr>\n",
       "  </tbody>\n",
       "</table>\n",
       "<p>5 rows × 88 columns</p>\n",
       "</div>"
      ],
      "text/plain": [
       "         revenue ( $ Algérien) gender  Accessoire femmes  Accessoires hommes  \\\n",
       "Cust_id                                                                        \n",
       "1745                  490115.0      1                  0                   0   \n",
       "1749                 1091037.0      1                  0                   0   \n",
       "2003                  434958.0      0                  0                   0   \n",
       "2055                  119155.0      0                  0                   0   \n",
       "2392                  276692.0      0                  0                   0   \n",
       "\n",
       "         Accessoires pour femmes  Accessoires unisexes  Appareils ménagers  \\\n",
       "Cust_id                                                                      \n",
       "1745                           0                     1                   0   \n",
       "1749                           0                     0                   3   \n",
       "2003                           0                     0                   0   \n",
       "2055                           0                     0                   0   \n",
       "2392                           0                     0                   0   \n",
       "\n",
       "         Appareils photo et accessoires  Automobile et motocycles  \\\n",
       "Cust_id                                                             \n",
       "1745                                  0                         0   \n",
       "1749                                  0                         0   \n",
       "2003                                  0                         0   \n",
       "2055                                  0                         0   \n",
       "2392                                  0                         0   \n",
       "\n",
       "         Beauté et parfums  ...  iPod et lecteurs MP3  city_A  city_B  city_C  \\\n",
       "Cust_id                     ...                                                 \n",
       "1745                     0  ...                     0       1       0       0   \n",
       "1749                     0  ...                     0       3       0       0   \n",
       "2003                     1  ...                     0       1       0       0   \n",
       "2055                     1  ...                     0       1       0       0   \n",
       "2392                     1  ...                     0       0       1       0   \n",
       "\n",
       "         week_day  day  dispatch_day_sin  dispatch_day_cos  \\\n",
       "Cust_id                                                      \n",
       "1745            4   28         -0.571268          0.820763   \n",
       "1749            1   18          0.272481         -0.797288   \n",
       "2003            5   22         -0.968077         -0.250653   \n",
       "2055            1   25         -0.937752          0.347305   \n",
       "2392            2   27         -0.724793          0.688967   \n",
       "\n",
       "         dispatch_day_of_week_sin  dispatch_day_of_week_cos  \n",
       "Cust_id                                                      \n",
       "1745                    -0.433884                 -0.900969  \n",
       "1749                     0.521221                  0.748993  \n",
       "2003                    -0.974928                 -0.222521  \n",
       "2055                     0.781831                  0.623490  \n",
       "2392                     0.974928                 -0.222521  \n",
       "\n",
       "[5 rows x 88 columns]"
      ]
     },
     "execution_count": 38,
     "metadata": {},
     "output_type": "execute_result"
    }
   ],
   "source": [
    "test.head()"
   ]
  },
  {
   "cell_type": "code",
   "execution_count": 39,
   "id": "81481fd6-61b7-4cb7-8d4b-042b3e15f34f",
   "metadata": {},
   "outputs": [],
   "source": [
    "cols = ['platform_web', 'platform_app']\n",
    "for col in cols:\n",
    "    train[col]=np.zeros(len(train))\n",
    "    test[col]=np.zeros(len(test))"
   ]
  },
  {
   "cell_type": "code",
   "execution_count": 40,
   "id": "c497fca4-7909-47c2-a532-4578c7205913",
   "metadata": {},
   "outputs": [],
   "source": [
    "for index in train_final.index:\n",
    "    customer = train_final.loc[index, 'Cust_id']\n",
    "    platform = train_final.loc[index, 'platform']\n",
    "    if platform == 0:\n",
    "        train.loc[customer, 'platform_web'] += 1\n",
    "    if platform == 1:\n",
    "        train.loc[customer, 'platform_app'] += 1"
   ]
  },
  {
   "cell_type": "code",
   "execution_count": 41,
   "id": "f03da49e-d7bb-4181-bc14-545f8fb1d9ed",
   "metadata": {},
   "outputs": [],
   "source": [
    "for index in test_final.index:\n",
    "    customer = test_final.loc[index, 'Cust_id']\n",
    "    platform = test_final.loc[index, 'platform']\n",
    "    if platform == 0:\n",
    "        test.loc[customer, 'platform_web'] += 1\n",
    "    if platform == 1:\n",
    "        test.loc[customer, 'platform_app'] += 1"
   ]
  },
  {
   "cell_type": "code",
   "execution_count": 42,
   "id": "5c4f998b-77b7-4e55-8512-504fddd0d7d1",
   "metadata": {},
   "outputs": [],
   "source": [
    "train.reset_index(inplace=True)\n",
    "test.reset_index(inplace=True)"
   ]
  },
  {
   "cell_type": "markdown",
   "id": "d31891e6-5f93-404f-bf31-6bd765113851",
   "metadata": {},
   "source": [
    "The `Number of orders` column indicates the total count of orders made by each customer."
   ]
  },
  {
   "cell_type": "code",
   "execution_count": 43,
   "id": "261ccb1a-54af-48b4-8989-4d602b3fff82",
   "metadata": {},
   "outputs": [],
   "source": [
    "dir = {\"train\": [train, train_final], \"test\": [test, test_final]}\n",
    "for data_set in [\"train\", \"test\"] :\n",
    "    for customer in dir[data_set][0][\"Cust_id\"] :\n",
    "        orders = len(dir[data_set][1][dir[data_set][1][\"Cust_id\"]== customer][\"id_purchase\"].unique())\n",
    "        index = dir[data_set][0][dir[data_set][0][\"Cust_id\"]==customer].index[0]\n",
    "        dir[data_set][0].loc[index, \"Number Of Orders\"] = orders"
   ]
  },
  {
   "cell_type": "markdown",
   "id": "fb3787ab-b137-4b08-afd7-3fed2a207375",
   "metadata": {},
   "source": [
    "The `Recency` column indicates the time elapsed in days between a customer's most recent order and the latest date available in the data."
   ]
  },
  {
   "cell_type": "code",
   "execution_count": 44,
   "id": "201ccb9a-d157-4426-8efe-dbcdf916c8c1",
   "metadata": {},
   "outputs": [],
   "source": [
    "for data_set in [\"train\", \"test\"] :\n",
    "    last = data['Order date'].max()\n",
    "    max = pd.DataFrame(dir[data_set][1].groupby(\"Cust_id\")[\"Order date\"].max())[\"Order date\"]\n",
    "    dir[data_set][0][\"Recency\"] = (last - max).dt.days.values"
   ]
  },
  {
   "cell_type": "markdown",
   "id": "197b09d2-c67d-4cd4-bee8-e2785036e25f",
   "metadata": {},
   "source": [
    "The `Products/Order` column indicates the ratio of items bought by orderfor each customer."
   ]
  },
  {
   "cell_type": "code",
   "execution_count": 45,
   "id": "30ac0451-ad75-43d0-9356-1c6c600974b2",
   "metadata": {},
   "outputs": [],
   "source": [
    "for data_set in [\"train\", \"test\"] :\n",
    "    for customer in dir[data_set][0][\"Cust_id\"] :\n",
    "            number = np.round(dir[data_set][1][dir[data_set][1][\"Cust_id\"]==customer].groupby(\"id_purchase\")[\"id_purchase\"].describe()[\"count\"].mean(), 2)\n",
    "            index = dir[data_set][0][dir[data_set][0][\"Cust_id\"]==customer].index[0]\n",
    "            dir[data_set][0].loc[index, \"Products/Order\"] = number"
   ]
  },
  {
   "cell_type": "markdown",
   "id": "90776496-abb0-409a-a64b-ed28704a9582",
   "metadata": {
    "tags": []
   },
   "source": [
    "### Modeling Strategy:\n",
    "I used a subset of the available data, consisting of the first three months (7, 8, 9) as the training set, and the subsequent four months (10, 11, 12, 1) as the target set for modeling. By incorporating future purchase data into the target set, I aimed to create a more accurate and effective model for predicting customer purchases in upcoming months.<br>\n",
    "To ensure the data was structured in a useful way for modeling, I arranged each row to represent a combination of customer and item, with the total number of rows equalling the product of the number of customers and the number of items.<br>\n",
    "The number of rows = the number of customers X the number of items"
   ]
  },
  {
   "cell_type": "code",
   "execution_count": 46,
   "id": "31fd3850-a233-4204-b4b8-ee7085535448",
   "metadata": {},
   "outputs": [],
   "source": [
    "train1=train.copy()\n",
    "for i in range(39):\n",
    "    train = pd.concat([train,train1],axis=0)"
   ]
  },
  {
   "cell_type": "code",
   "execution_count": 47,
   "id": "1978ed6e-2429-40bd-8036-e8b796245f85",
   "metadata": {},
   "outputs": [],
   "source": [
    "submission = pd.read_csv('sample_submission.csv')"
   ]
  },
  {
   "cell_type": "code",
   "execution_count": 48,
   "id": "34ab40db-e37e-48dd-ae3e-5001b76800fe",
   "metadata": {},
   "outputs": [
    {
     "data": {
      "text/plain": [
       "'Chaussures de sport'"
      ]
     },
     "execution_count": 48,
     "metadata": {},
     "output_type": "execute_result"
    }
   ],
   "source": [
    "submission.loc[88, 'id'].split('_')[1]"
   ]
  },
  {
   "cell_type": "code",
   "execution_count": 49,
   "id": "32b4ee42-0821-4353-80b8-7a131cd2b4db",
   "metadata": {},
   "outputs": [],
   "source": [
    "items=[]\n",
    "for index in submission.index:\n",
    "    items.append(submission.loc[index, 'id'].split('_')[1])"
   ]
  },
  {
   "cell_type": "code",
   "execution_count": 50,
   "id": "3e78313c-ae2d-4bf3-a683-9cb0ab14b6a5",
   "metadata": {},
   "outputs": [],
   "source": [
    "items = np.array(items)\n",
    "items = np.unique(items)"
   ]
  },
  {
   "cell_type": "code",
   "execution_count": 51,
   "id": "ebbbad2f-5bb6-415c-b576-736902868d94",
   "metadata": {},
   "outputs": [],
   "source": [
    "test1=test.copy()\n",
    "for i in range(39):\n",
    "    test = pd.concat([test,test1],axis=0)"
   ]
  },
  {
   "cell_type": "code",
   "execution_count": 52,
   "id": "59239100-0da4-40d7-8d6d-078aab37a5a0",
   "metadata": {},
   "outputs": [],
   "source": [
    "from sklearn.preprocessing import LabelEncoder\n",
    "le = LabelEncoder()\n",
    "encoded_list = le.fit_transform(items)"
   ]
  },
  {
   "cell_type": "code",
   "execution_count": 53,
   "id": "250f48bb-1a40-451b-8938-54c96a0f8cc4",
   "metadata": {},
   "outputs": [],
   "source": [
    "products = []\n",
    "encoded = []\n",
    "for i in range(40):\n",
    "    for j in range(len(test1)):\n",
    "        products.append(items[i])\n",
    "for i in range(40):\n",
    "    for j in range(len(test1)):\n",
    "        encoded.append(encoded_list[i])"
   ]
  },
  {
   "cell_type": "markdown",
   "id": "82cbf808-3736-40bd-b5e9-7b8a81147e0c",
   "metadata": {},
   "source": [
    "To enable prediction of whether a customer will purchase a particular item, I transformed the relevant data into an encoded list format. The number of this encoded list present in one of my dataframe's rows represents the item in question."
   ]
  },
  {
   "cell_type": "code",
   "execution_count": 54,
   "id": "283a214b-586e-4c9a-af78-77404957e425",
   "metadata": {},
   "outputs": [],
   "source": [
    "test['product1'] = products\n",
    "test['product'] = encoded"
   ]
  },
  {
   "cell_type": "code",
   "execution_count": 55,
   "id": "96788909-b579-4752-a055-9c84e4cac81f",
   "metadata": {},
   "outputs": [],
   "source": [
    "products = []\n",
    "encoded = []\n",
    "for i in range(40):\n",
    "    for j in range(len(train1)):\n",
    "        products.append(items[i])\n",
    "for i in range(40):\n",
    "    for j in range(len(train1)):\n",
    "        encoded.append(encoded_list[i])"
   ]
  },
  {
   "cell_type": "code",
   "execution_count": 56,
   "id": "7159b7d5-6922-4a9d-8acc-aeb645367357",
   "metadata": {},
   "outputs": [],
   "source": [
    "train['product1'] = products\n",
    "train['product'] = encoded"
   ]
  },
  {
   "cell_type": "code",
   "execution_count": 57,
   "id": "64a0339d-6e06-43bd-a6f1-075ae7151850",
   "metadata": {},
   "outputs": [],
   "source": [
    "train.reset_index(inplace=True)\n",
    "test.reset_index(inplace=True)"
   ]
  },
  {
   "cell_type": "code",
   "execution_count": 58,
   "id": "68298665-2a10-43e7-8b8e-e6201c210bf6",
   "metadata": {},
   "outputs": [],
   "source": [
    "train.drop('index', axis=1, inplace=True)\n",
    "test.drop('index', axis=1, inplace=True)"
   ]
  },
  {
   "cell_type": "markdown",
   "id": "ec46d6da-7b4b-4b61-a97a-308c0bd5eea3",
   "metadata": {
    "tags": []
   },
   "source": [
    "### Making my dataframes looks like the submission file:"
   ]
  },
  {
   "cell_type": "code",
   "execution_count": 59,
   "id": "1415e6bf-8fca-4fe8-a422-bc40fbc57ece",
   "metadata": {},
   "outputs": [],
   "source": [
    "for index in train.index:\n",
    "    name = str(train.loc[index, 'Cust_id']) + '_' + train.loc[index, 'product1']\n",
    "    train.loc[index, 'index'] = name"
   ]
  },
  {
   "cell_type": "code",
   "execution_count": 60,
   "id": "ebe485ba-8c3f-4050-8eaf-1e38473c22ca",
   "metadata": {},
   "outputs": [],
   "source": [
    "for index in test.index:\n",
    "    name = str(test.loc[index, 'Cust_id']) + '_' + test.loc[index, 'product1']\n",
    "    test.loc[index, 'index'] = name"
   ]
  },
  {
   "cell_type": "code",
   "execution_count": 61,
   "id": "182f65a8-d481-41db-b114-bbf52672d0fe",
   "metadata": {},
   "outputs": [],
   "source": [
    "train.drop(['Cust_id', 'product1'], axis=1, inplace=True)\n",
    "test.drop(['Cust_id', 'product1'], axis=1, inplace=True)"
   ]
  },
  {
   "cell_type": "code",
   "execution_count": 62,
   "id": "6160038e-19fb-44aa-be4b-0f4189cd6795",
   "metadata": {},
   "outputs": [],
   "source": [
    "train.set_index('index', inplace=True)"
   ]
  },
  {
   "cell_type": "code",
   "execution_count": 63,
   "id": "a6a2df25-af42-4bb3-933b-0d0252a3500f",
   "metadata": {},
   "outputs": [],
   "source": [
    "test.set_index('index', inplace=True)"
   ]
  },
  {
   "cell_type": "code",
   "execution_count": 64,
   "id": "9fb73365-dcc9-4433-8509-22482e5fa4fe",
   "metadata": {},
   "outputs": [],
   "source": [
    "train['Target'] = np.zeros(len(train))"
   ]
  },
  {
   "cell_type": "markdown",
   "id": "6b44e416-72db-437e-839e-34e9f9ca063c",
   "metadata": {},
   "source": [
    "There is a little differnce between the items presents in the train set and the submission set."
   ]
  },
  {
   "cell_type": "code",
   "execution_count": 65,
   "id": "a9c90985-add4-407e-8871-8151ac7538ff",
   "metadata": {},
   "outputs": [],
   "source": [
    "df.loc[(df['Product'].str.contains('Accessoire')), 'Product'] = 'Accessoires'\n",
    "df.loc[(df['Product'].str.contains('Chaussures')), 'Product'] = 'Chaussures'\n",
    "df.loc[(df['Product'].str.contains('ébé')), 'Product'] = 'Bébé'\n",
    "df.loc[(df['Product'].str.contains('Filles')), 'Product'] = 'Bébé'\n",
    "df.loc[(df['Product'].str.contains('Garçons')), 'Product'] = 'Bébé'\n",
    "df.loc[(df['Product'].str.contains('Jeux')), 'Product'] = 'Consoles'\n",
    "df.loc[(df['Product'].str.contains('ppareils photo et accessoires')), 'Product'] = 'Autres appareils photo et accessoires'\n",
    "df.loc[(df['Product'].str.contains('Téléphones')), 'Product'] = 'Smartphone'\n",
    "df.loc[(df['Product'].str.contains('Fitness')), 'Product'] = 'Fitness'"
   ]
  },
  {
   "cell_type": "code",
   "execution_count": 66,
   "id": "ea80ccdb-79c7-4241-a20a-9b0df2e87d78",
   "metadata": {},
   "outputs": [],
   "source": [
    "def func(x,y):\n",
    "    return str(x) + '_' + y"
   ]
  },
  {
   "cell_type": "code",
   "execution_count": 67,
   "id": "f3878d79-74a0-4c96-9692-eb02859b16cf",
   "metadata": {
    "tags": []
   },
   "outputs": [],
   "source": [
    "indices = []\n",
    "for index in df.index:\n",
    "    ind = func(df.loc[index, 'Customer'], df.loc[index, 'Product'])\n",
    "    indices.append(ind)"
   ]
  },
  {
   "cell_type": "code",
   "execution_count": 68,
   "id": "c0e9049c-de1b-4ed7-afde-876d17533366",
   "metadata": {},
   "outputs": [],
   "source": [
    "indices = np.array(indices)"
   ]
  },
  {
   "cell_type": "code",
   "execution_count": 69,
   "id": "85a05321-2b79-4e71-b7b0-f3483659686e",
   "metadata": {},
   "outputs": [],
   "source": [
    "condition = train.index.isin(indices)"
   ]
  },
  {
   "cell_type": "code",
   "execution_count": 70,
   "id": "4f34d6ca-359e-4114-849d-333f29b2e9e0",
   "metadata": {},
   "outputs": [],
   "source": [
    "train.loc[condition, 'Target']=1"
   ]
  },
  {
   "cell_type": "code",
   "execution_count": 71,
   "id": "654cfca8-eff0-444b-b96d-b536892c7ab6",
   "metadata": {},
   "outputs": [
    {
     "data": {
      "text/html": [
       "<div>\n",
       "<style scoped>\n",
       "    .dataframe tbody tr th:only-of-type {\n",
       "        vertical-align: middle;\n",
       "    }\n",
       "\n",
       "    .dataframe tbody tr th {\n",
       "        vertical-align: top;\n",
       "    }\n",
       "\n",
       "    .dataframe thead th {\n",
       "        text-align: right;\n",
       "    }\n",
       "</style>\n",
       "<table border=\"1\" class=\"dataframe\">\n",
       "  <thead>\n",
       "    <tr style=\"text-align: right;\">\n",
       "      <th></th>\n",
       "      <th>revenue ( $ Algérien)</th>\n",
       "      <th>gender</th>\n",
       "      <th>Accessoire femmes</th>\n",
       "      <th>Accessoires hommes</th>\n",
       "      <th>Accessoires pour femmes</th>\n",
       "      <th>Accessoires unisexes</th>\n",
       "      <th>Appareils ménagers</th>\n",
       "      <th>Appareils photo et accessoires</th>\n",
       "      <th>Automobile et motocycles</th>\n",
       "      <th>Beauté et parfums</th>\n",
       "      <th>...</th>\n",
       "      <th>dispatch_day_cos</th>\n",
       "      <th>dispatch_day_of_week_sin</th>\n",
       "      <th>dispatch_day_of_week_cos</th>\n",
       "      <th>platform_web</th>\n",
       "      <th>platform_app</th>\n",
       "      <th>Number Of Orders</th>\n",
       "      <th>Recency</th>\n",
       "      <th>Products/Order</th>\n",
       "      <th>product</th>\n",
       "      <th>Target</th>\n",
       "    </tr>\n",
       "    <tr>\n",
       "      <th>index</th>\n",
       "      <th></th>\n",
       "      <th></th>\n",
       "      <th></th>\n",
       "      <th></th>\n",
       "      <th></th>\n",
       "      <th></th>\n",
       "      <th></th>\n",
       "      <th></th>\n",
       "      <th></th>\n",
       "      <th></th>\n",
       "      <th></th>\n",
       "      <th></th>\n",
       "      <th></th>\n",
       "      <th></th>\n",
       "      <th></th>\n",
       "      <th></th>\n",
       "      <th></th>\n",
       "      <th></th>\n",
       "      <th></th>\n",
       "      <th></th>\n",
       "      <th></th>\n",
       "    </tr>\n",
       "  </thead>\n",
       "  <tbody>\n",
       "    <tr>\n",
       "      <th>16_Accessoires</th>\n",
       "      <td>378761.0</td>\n",
       "      <td>0</td>\n",
       "      <td>0</td>\n",
       "      <td>3</td>\n",
       "      <td>0</td>\n",
       "      <td>0</td>\n",
       "      <td>0</td>\n",
       "      <td>0</td>\n",
       "      <td>0</td>\n",
       "      <td>0</td>\n",
       "      <td>...</td>\n",
       "      <td>-0.150635</td>\n",
       "      <td>0.505324</td>\n",
       "      <td>-0.448670</td>\n",
       "      <td>0.0</td>\n",
       "      <td>3.0</td>\n",
       "      <td>3.0</td>\n",
       "      <td>50</td>\n",
       "      <td>1.0</td>\n",
       "      <td>0</td>\n",
       "      <td>0.0</td>\n",
       "    </tr>\n",
       "    <tr>\n",
       "      <th>159_Accessoires</th>\n",
       "      <td>387192.0</td>\n",
       "      <td>0</td>\n",
       "      <td>0</td>\n",
       "      <td>1</td>\n",
       "      <td>0</td>\n",
       "      <td>0</td>\n",
       "      <td>0</td>\n",
       "      <td>0</td>\n",
       "      <td>0</td>\n",
       "      <td>0</td>\n",
       "      <td>...</td>\n",
       "      <td>-0.250653</td>\n",
       "      <td>0.974928</td>\n",
       "      <td>-0.222521</td>\n",
       "      <td>0.0</td>\n",
       "      <td>1.0</td>\n",
       "      <td>1.0</td>\n",
       "      <td>52</td>\n",
       "      <td>1.0</td>\n",
       "      <td>0</td>\n",
       "      <td>0.0</td>\n",
       "    </tr>\n",
       "    <tr>\n",
       "      <th>170_Accessoires</th>\n",
       "      <td>442711.0</td>\n",
       "      <td>1</td>\n",
       "      <td>0</td>\n",
       "      <td>0</td>\n",
       "      <td>0</td>\n",
       "      <td>1</td>\n",
       "      <td>0</td>\n",
       "      <td>0</td>\n",
       "      <td>0</td>\n",
       "      <td>0</td>\n",
       "      <td>...</td>\n",
       "      <td>0.347305</td>\n",
       "      <td>-0.433884</td>\n",
       "      <td>-0.900969</td>\n",
       "      <td>0.0</td>\n",
       "      <td>1.0</td>\n",
       "      <td>1.0</td>\n",
       "      <td>36</td>\n",
       "      <td>1.0</td>\n",
       "      <td>0</td>\n",
       "      <td>0.0</td>\n",
       "    </tr>\n",
       "    <tr>\n",
       "      <th>229_Accessoires</th>\n",
       "      <td>351411.0</td>\n",
       "      <td>1</td>\n",
       "      <td>0</td>\n",
       "      <td>0</td>\n",
       "      <td>0</td>\n",
       "      <td>0</td>\n",
       "      <td>0</td>\n",
       "      <td>0</td>\n",
       "      <td>0</td>\n",
       "      <td>2</td>\n",
       "      <td>...</td>\n",
       "      <td>-0.602396</td>\n",
       "      <td>0.390916</td>\n",
       "      <td>0.811745</td>\n",
       "      <td>1.0</td>\n",
       "      <td>1.0</td>\n",
       "      <td>2.0</td>\n",
       "      <td>39</td>\n",
       "      <td>1.0</td>\n",
       "      <td>0</td>\n",
       "      <td>0.0</td>\n",
       "    </tr>\n",
       "    <tr>\n",
       "      <th>230_Accessoires</th>\n",
       "      <td>115296.0</td>\n",
       "      <td>1</td>\n",
       "      <td>0</td>\n",
       "      <td>0</td>\n",
       "      <td>0</td>\n",
       "      <td>0</td>\n",
       "      <td>0</td>\n",
       "      <td>0</td>\n",
       "      <td>0</td>\n",
       "      <td>2</td>\n",
       "      <td>...</td>\n",
       "      <td>-0.212588</td>\n",
       "      <td>-0.270522</td>\n",
       "      <td>-0.561745</td>\n",
       "      <td>0.0</td>\n",
       "      <td>2.0</td>\n",
       "      <td>2.0</td>\n",
       "      <td>35</td>\n",
       "      <td>1.0</td>\n",
       "      <td>0</td>\n",
       "      <td>0.0</td>\n",
       "    </tr>\n",
       "  </tbody>\n",
       "</table>\n",
       "<p>5 rows × 95 columns</p>\n",
       "</div>"
      ],
      "text/plain": [
       "                 revenue ( $ Algérien) gender  Accessoire femmes  \\\n",
       "index                                                              \n",
       "16_Accessoires                378761.0      0                  0   \n",
       "159_Accessoires               387192.0      0                  0   \n",
       "170_Accessoires               442711.0      1                  0   \n",
       "229_Accessoires               351411.0      1                  0   \n",
       "230_Accessoires               115296.0      1                  0   \n",
       "\n",
       "                 Accessoires hommes  Accessoires pour femmes  \\\n",
       "index                                                          \n",
       "16_Accessoires                    3                        0   \n",
       "159_Accessoires                   1                        0   \n",
       "170_Accessoires                   0                        0   \n",
       "229_Accessoires                   0                        0   \n",
       "230_Accessoires                   0                        0   \n",
       "\n",
       "                 Accessoires unisexes  Appareils ménagers  \\\n",
       "index                                                       \n",
       "16_Accessoires                      0                   0   \n",
       "159_Accessoires                     0                   0   \n",
       "170_Accessoires                     1                   0   \n",
       "229_Accessoires                     0                   0   \n",
       "230_Accessoires                     0                   0   \n",
       "\n",
       "                 Appareils photo et accessoires  Automobile et motocycles  \\\n",
       "index                                                                       \n",
       "16_Accessoires                                0                         0   \n",
       "159_Accessoires                               0                         0   \n",
       "170_Accessoires                               0                         0   \n",
       "229_Accessoires                               0                         0   \n",
       "230_Accessoires                               0                         0   \n",
       "\n",
       "                 Beauté et parfums  ...  dispatch_day_cos  \\\n",
       "index                               ...                     \n",
       "16_Accessoires                   0  ...         -0.150635   \n",
       "159_Accessoires                  0  ...         -0.250653   \n",
       "170_Accessoires                  0  ...          0.347305   \n",
       "229_Accessoires                  2  ...         -0.602396   \n",
       "230_Accessoires                  2  ...         -0.212588   \n",
       "\n",
       "                 dispatch_day_of_week_sin  dispatch_day_of_week_cos  \\\n",
       "index                                                                 \n",
       "16_Accessoires                   0.505324                 -0.448670   \n",
       "159_Accessoires                  0.974928                 -0.222521   \n",
       "170_Accessoires                 -0.433884                 -0.900969   \n",
       "229_Accessoires                  0.390916                  0.811745   \n",
       "230_Accessoires                 -0.270522                 -0.561745   \n",
       "\n",
       "                 platform_web  platform_app  Number Of Orders  Recency  \\\n",
       "index                                                                    \n",
       "16_Accessoires            0.0           3.0               3.0       50   \n",
       "159_Accessoires           0.0           1.0               1.0       52   \n",
       "170_Accessoires           0.0           1.0               1.0       36   \n",
       "229_Accessoires           1.0           1.0               2.0       39   \n",
       "230_Accessoires           0.0           2.0               2.0       35   \n",
       "\n",
       "                 Products/Order  product  Target  \n",
       "index                                             \n",
       "16_Accessoires              1.0        0     0.0  \n",
       "159_Accessoires             1.0        0     0.0  \n",
       "170_Accessoires             1.0        0     0.0  \n",
       "229_Accessoires             1.0        0     0.0  \n",
       "230_Accessoires             1.0        0     0.0  \n",
       "\n",
       "[5 rows x 95 columns]"
      ]
     },
     "execution_count": 71,
     "metadata": {},
     "output_type": "execute_result"
    }
   ],
   "source": [
    "train.head()"
   ]
  },
  {
   "cell_type": "code",
   "execution_count": 72,
   "id": "bdb11695-75a8-4701-b57b-14f56d00228d",
   "metadata": {},
   "outputs": [
    {
     "data": {
      "text/html": [
       "<div>\n",
       "<style scoped>\n",
       "    .dataframe tbody tr th:only-of-type {\n",
       "        vertical-align: middle;\n",
       "    }\n",
       "\n",
       "    .dataframe tbody tr th {\n",
       "        vertical-align: top;\n",
       "    }\n",
       "\n",
       "    .dataframe thead th {\n",
       "        text-align: right;\n",
       "    }\n",
       "</style>\n",
       "<table border=\"1\" class=\"dataframe\">\n",
       "  <thead>\n",
       "    <tr style=\"text-align: right;\">\n",
       "      <th></th>\n",
       "      <th>revenue ( $ Algérien)</th>\n",
       "      <th>gender</th>\n",
       "      <th>Accessoire femmes</th>\n",
       "      <th>Accessoires hommes</th>\n",
       "      <th>Accessoires pour femmes</th>\n",
       "      <th>Accessoires unisexes</th>\n",
       "      <th>Appareils ménagers</th>\n",
       "      <th>Appareils photo et accessoires</th>\n",
       "      <th>Automobile et motocycles</th>\n",
       "      <th>Beauté et parfums</th>\n",
       "      <th>...</th>\n",
       "      <th>dispatch_day_sin</th>\n",
       "      <th>dispatch_day_cos</th>\n",
       "      <th>dispatch_day_of_week_sin</th>\n",
       "      <th>dispatch_day_of_week_cos</th>\n",
       "      <th>platform_web</th>\n",
       "      <th>platform_app</th>\n",
       "      <th>Number Of Orders</th>\n",
       "      <th>Recency</th>\n",
       "      <th>Products/Order</th>\n",
       "      <th>product</th>\n",
       "    </tr>\n",
       "    <tr>\n",
       "      <th>index</th>\n",
       "      <th></th>\n",
       "      <th></th>\n",
       "      <th></th>\n",
       "      <th></th>\n",
       "      <th></th>\n",
       "      <th></th>\n",
       "      <th></th>\n",
       "      <th></th>\n",
       "      <th></th>\n",
       "      <th></th>\n",
       "      <th></th>\n",
       "      <th></th>\n",
       "      <th></th>\n",
       "      <th></th>\n",
       "      <th></th>\n",
       "      <th></th>\n",
       "      <th></th>\n",
       "      <th></th>\n",
       "      <th></th>\n",
       "      <th></th>\n",
       "      <th></th>\n",
       "    </tr>\n",
       "  </thead>\n",
       "  <tbody>\n",
       "    <tr>\n",
       "      <th>1745_Accessoires</th>\n",
       "      <td>490115.0</td>\n",
       "      <td>1</td>\n",
       "      <td>0</td>\n",
       "      <td>0</td>\n",
       "      <td>0</td>\n",
       "      <td>1</td>\n",
       "      <td>0</td>\n",
       "      <td>0</td>\n",
       "      <td>0</td>\n",
       "      <td>0</td>\n",
       "      <td>...</td>\n",
       "      <td>-0.571268</td>\n",
       "      <td>0.820763</td>\n",
       "      <td>-0.433884</td>\n",
       "      <td>-0.900969</td>\n",
       "      <td>0.0</td>\n",
       "      <td>1.0</td>\n",
       "      <td>1.0</td>\n",
       "      <td>64</td>\n",
       "      <td>1.0</td>\n",
       "      <td>0</td>\n",
       "    </tr>\n",
       "    <tr>\n",
       "      <th>1749_Accessoires</th>\n",
       "      <td>1091037.0</td>\n",
       "      <td>1</td>\n",
       "      <td>0</td>\n",
       "      <td>0</td>\n",
       "      <td>0</td>\n",
       "      <td>0</td>\n",
       "      <td>3</td>\n",
       "      <td>0</td>\n",
       "      <td>0</td>\n",
       "      <td>0</td>\n",
       "      <td>...</td>\n",
       "      <td>0.272481</td>\n",
       "      <td>-0.797288</td>\n",
       "      <td>0.521221</td>\n",
       "      <td>0.748993</td>\n",
       "      <td>0.0</td>\n",
       "      <td>3.0</td>\n",
       "      <td>3.0</td>\n",
       "      <td>12</td>\n",
       "      <td>1.0</td>\n",
       "      <td>0</td>\n",
       "    </tr>\n",
       "    <tr>\n",
       "      <th>2003_Accessoires</th>\n",
       "      <td>434958.0</td>\n",
       "      <td>0</td>\n",
       "      <td>0</td>\n",
       "      <td>0</td>\n",
       "      <td>0</td>\n",
       "      <td>0</td>\n",
       "      <td>0</td>\n",
       "      <td>0</td>\n",
       "      <td>0</td>\n",
       "      <td>1</td>\n",
       "      <td>...</td>\n",
       "      <td>-0.968077</td>\n",
       "      <td>-0.250653</td>\n",
       "      <td>-0.974928</td>\n",
       "      <td>-0.222521</td>\n",
       "      <td>1.0</td>\n",
       "      <td>0.0</td>\n",
       "      <td>1.0</td>\n",
       "      <td>70</td>\n",
       "      <td>1.0</td>\n",
       "      <td>0</td>\n",
       "    </tr>\n",
       "    <tr>\n",
       "      <th>2055_Accessoires</th>\n",
       "      <td>119155.0</td>\n",
       "      <td>0</td>\n",
       "      <td>0</td>\n",
       "      <td>0</td>\n",
       "      <td>0</td>\n",
       "      <td>0</td>\n",
       "      <td>0</td>\n",
       "      <td>0</td>\n",
       "      <td>0</td>\n",
       "      <td>1</td>\n",
       "      <td>...</td>\n",
       "      <td>-0.937752</td>\n",
       "      <td>0.347305</td>\n",
       "      <td>0.781831</td>\n",
       "      <td>0.623490</td>\n",
       "      <td>0.0</td>\n",
       "      <td>1.0</td>\n",
       "      <td>1.0</td>\n",
       "      <td>67</td>\n",
       "      <td>1.0</td>\n",
       "      <td>0</td>\n",
       "    </tr>\n",
       "    <tr>\n",
       "      <th>2392_Accessoires</th>\n",
       "      <td>276692.0</td>\n",
       "      <td>0</td>\n",
       "      <td>0</td>\n",
       "      <td>0</td>\n",
       "      <td>0</td>\n",
       "      <td>0</td>\n",
       "      <td>0</td>\n",
       "      <td>0</td>\n",
       "      <td>0</td>\n",
       "      <td>1</td>\n",
       "      <td>...</td>\n",
       "      <td>-0.724793</td>\n",
       "      <td>0.688967</td>\n",
       "      <td>0.974928</td>\n",
       "      <td>-0.222521</td>\n",
       "      <td>0.0</td>\n",
       "      <td>1.0</td>\n",
       "      <td>1.0</td>\n",
       "      <td>3</td>\n",
       "      <td>1.0</td>\n",
       "      <td>0</td>\n",
       "    </tr>\n",
       "  </tbody>\n",
       "</table>\n",
       "<p>5 rows × 94 columns</p>\n",
       "</div>"
      ],
      "text/plain": [
       "                  revenue ( $ Algérien) gender  Accessoire femmes  \\\n",
       "index                                                               \n",
       "1745_Accessoires               490115.0      1                  0   \n",
       "1749_Accessoires              1091037.0      1                  0   \n",
       "2003_Accessoires               434958.0      0                  0   \n",
       "2055_Accessoires               119155.0      0                  0   \n",
       "2392_Accessoires               276692.0      0                  0   \n",
       "\n",
       "                  Accessoires hommes  Accessoires pour femmes  \\\n",
       "index                                                           \n",
       "1745_Accessoires                   0                        0   \n",
       "1749_Accessoires                   0                        0   \n",
       "2003_Accessoires                   0                        0   \n",
       "2055_Accessoires                   0                        0   \n",
       "2392_Accessoires                   0                        0   \n",
       "\n",
       "                  Accessoires unisexes  Appareils ménagers  \\\n",
       "index                                                        \n",
       "1745_Accessoires                     1                   0   \n",
       "1749_Accessoires                     0                   3   \n",
       "2003_Accessoires                     0                   0   \n",
       "2055_Accessoires                     0                   0   \n",
       "2392_Accessoires                     0                   0   \n",
       "\n",
       "                  Appareils photo et accessoires  Automobile et motocycles  \\\n",
       "index                                                                        \n",
       "1745_Accessoires                               0                         0   \n",
       "1749_Accessoires                               0                         0   \n",
       "2003_Accessoires                               0                         0   \n",
       "2055_Accessoires                               0                         0   \n",
       "2392_Accessoires                               0                         0   \n",
       "\n",
       "                  Beauté et parfums  ...  dispatch_day_sin  dispatch_day_cos  \\\n",
       "index                                ...                                       \n",
       "1745_Accessoires                  0  ...         -0.571268          0.820763   \n",
       "1749_Accessoires                  0  ...          0.272481         -0.797288   \n",
       "2003_Accessoires                  1  ...         -0.968077         -0.250653   \n",
       "2055_Accessoires                  1  ...         -0.937752          0.347305   \n",
       "2392_Accessoires                  1  ...         -0.724793          0.688967   \n",
       "\n",
       "                  dispatch_day_of_week_sin  dispatch_day_of_week_cos  \\\n",
       "index                                                                  \n",
       "1745_Accessoires                 -0.433884                 -0.900969   \n",
       "1749_Accessoires                  0.521221                  0.748993   \n",
       "2003_Accessoires                 -0.974928                 -0.222521   \n",
       "2055_Accessoires                  0.781831                  0.623490   \n",
       "2392_Accessoires                  0.974928                 -0.222521   \n",
       "\n",
       "                  platform_web  platform_app  Number Of Orders  Recency  \\\n",
       "index                                                                     \n",
       "1745_Accessoires           0.0           1.0               1.0       64   \n",
       "1749_Accessoires           0.0           3.0               3.0       12   \n",
       "2003_Accessoires           1.0           0.0               1.0       70   \n",
       "2055_Accessoires           0.0           1.0               1.0       67   \n",
       "2392_Accessoires           0.0           1.0               1.0        3   \n",
       "\n",
       "                  Products/Order  product  \n",
       "index                                      \n",
       "1745_Accessoires             1.0        0  \n",
       "1749_Accessoires             1.0        0  \n",
       "2003_Accessoires             1.0        0  \n",
       "2055_Accessoires             1.0        0  \n",
       "2392_Accessoires             1.0        0  \n",
       "\n",
       "[5 rows x 94 columns]"
      ]
     },
     "execution_count": 72,
     "metadata": {},
     "output_type": "execute_result"
    }
   ],
   "source": [
    "test.head()"
   ]
  },
  {
   "cell_type": "markdown",
   "id": "9ee49fa9-0d43-4d17-9482-71593f9bfb67",
   "metadata": {},
   "source": [
    "The column names have many special characters => I encoded them in numbers"
   ]
  },
  {
   "cell_type": "code",
   "execution_count": 73,
   "id": "3e0cd594-bb5b-4255-8759-785131a6a36e",
   "metadata": {},
   "outputs": [],
   "source": [
    "train.columns = range(len(train.columns))\n",
    "train = train.rename(columns={94: 'Target'})"
   ]
  },
  {
   "cell_type": "code",
   "execution_count": 74,
   "id": "186d0a06-8267-46d3-92aa-ad19297bbc3a",
   "metadata": {},
   "outputs": [],
   "source": [
    "test.columns = range(len(test.columns))\n",
    "test = test.rename(columns={94: 'Target'})"
   ]
  },
  {
   "cell_type": "markdown",
   "id": "03a4642d-57f9-4745-9960-93bf390e4c37",
   "metadata": {
    "tags": []
   },
   "source": [
    "## Machine Learning:"
   ]
  },
  {
   "cell_type": "markdown",
   "id": "bea93f27",
   "metadata": {},
   "source": [
    "### Spliting train data on 2 datasets to evaluate the model:"
   ]
  },
  {
   "cell_type": "code",
   "execution_count": 75,
   "id": "ebee8ec0-3ae0-4380-88c3-737e6962a5b9",
   "metadata": {},
   "outputs": [],
   "source": [
    "from sklearn.model_selection import train_test_split"
   ]
  },
  {
   "cell_type": "code",
   "execution_count": 76,
   "id": "8ff3a9b6-d967-444b-94d8-68102752c46a",
   "metadata": {
    "tags": []
   },
   "outputs": [],
   "source": [
    "train1, test1 = train_test_split(train, test_size=0.3 , random_state=101)"
   ]
  },
  {
   "cell_type": "code",
   "execution_count": 77,
   "id": "14eb6818",
   "metadata": {
    "scrolled": true,
    "tags": []
   },
   "outputs": [
    {
     "data": {
      "text/plain": [
       "0.0    0.986198\n",
       "1.0    0.013802\n",
       "Name: Target, dtype: float64"
      ]
     },
     "execution_count": 77,
     "metadata": {},
     "output_type": "execute_result"
    }
   ],
   "source": [
    "train1['Target'].value_counts(normalize=True)"
   ]
  },
  {
   "cell_type": "markdown",
   "id": "7a7c3861",
   "metadata": {},
   "source": [
    "The target is <b>unbalanced</b>. So, I decided to duplicate rows from the the minority class."
   ]
  },
  {
   "cell_type": "code",
   "execution_count": 78,
   "id": "603b8e4b-3bda-4301-a4a6-2deeee1ee2d1",
   "metadata": {
    "tags": []
   },
   "outputs": [],
   "source": [
    "filt = train1['Target'] == 1\n",
    "s = train1[filt]\n",
    "for i in range(70):\n",
    "    train1=train1.append(s)"
   ]
  },
  {
   "cell_type": "code",
   "execution_count": 79,
   "id": "1903a42e-ba08-4b72-83b0-aa0edb19a2b1",
   "metadata": {
    "tags": []
   },
   "outputs": [
    {
     "data": {
      "text/plain": [
       "0.0    50.158966\n",
       "1.0    49.841034\n",
       "Name: Target, dtype: float64"
      ]
     },
     "execution_count": 79,
     "metadata": {},
     "output_type": "execute_result"
    }
   ],
   "source": [
    "train1['Target'].value_counts(normalize=True)*100"
   ]
  },
  {
   "cell_type": "markdown",
   "id": "d4626e05-5f85-4e8a-b63a-157980dbcfb2",
   "metadata": {
    "tags": []
   },
   "source": [
    "Then I shuffled the data"
   ]
  },
  {
   "cell_type": "code",
   "execution_count": 80,
   "id": "9fad825e-fda8-4993-8fc6-b69d276410a5",
   "metadata": {
    "tags": []
   },
   "outputs": [],
   "source": [
    "train1=train1.sample(frac=1.0)"
   ]
  },
  {
   "cell_type": "code",
   "execution_count": 81,
   "id": "97c1c0b5-3d77-44a1-b8b2-b7173e4b0346",
   "metadata": {
    "tags": []
   },
   "outputs": [],
   "source": [
    "x_train = train1.drop(['Target'],axis=1)\n",
    "x_test = test1.drop(['Target'],axis=1)\n",
    "y_train = train1['Target']\n",
    "y_test = test1['Target']"
   ]
  },
  {
   "cell_type": "markdown",
   "id": "df68e986-880c-4d9b-b8a9-62d084d64957",
   "metadata": {
    "tags": []
   },
   "source": [
    "#### Feature selection"
   ]
  },
  {
   "cell_type": "code",
   "execution_count": 167,
   "id": "443e9451-b925-405b-84cf-60635c95c61c",
   "metadata": {
    "tags": []
   },
   "outputs": [],
   "source": [
    "from sklearn.feature_selection import RFE\n",
    "model = LGBMClassifier()\n",
    "rfe = RFE(model, n_features_to_select=20)\n",
    "rfe.fit(x_train, y_train)\n",
    "\n",
    "selected_features = x_train.columns[rfe.support_]"
   ]
  },
  {
   "cell_type": "code",
   "execution_count": 168,
   "id": "7217181e-8c5d-40bb-b174-3a089b785053",
   "metadata": {},
   "outputs": [
    {
     "data": {
      "text/plain": [
       "Index([0, 3, 6, 9, 11, 12, 13, 21, 23, 29, 31, 32, 33, 69, 78, 84, 85, 86, 91,\n",
       "       93],\n",
       "      dtype='object')"
      ]
     },
     "execution_count": 168,
     "metadata": {},
     "output_type": "execute_result"
    }
   ],
   "source": [
    "selected_features"
   ]
  },
  {
   "cell_type": "markdown",
   "id": "6f626f5e-3793-4598-8eba-e3c140fc211e",
   "metadata": {},
   "source": [
    "#### Modeling"
   ]
  },
  {
   "cell_type": "code",
   "execution_count": 83,
   "id": "dcf23fae-fa53-4ec7-b7f9-34df8ec89441",
   "metadata": {},
   "outputs": [],
   "source": [
    "x_train = x_train[selected_features]\n",
    "x_test = x_test[selected_features]"
   ]
  },
  {
   "cell_type": "code",
   "execution_count": 84,
   "id": "c5144406-f3ac-419f-b1d3-e4c2ee5dd99b",
   "metadata": {},
   "outputs": [],
   "source": [
    "model = LGBMClassifier(random_seed=42)"
   ]
  },
  {
   "cell_type": "code",
   "execution_count": 85,
   "id": "00ad681d-f593-4235-8ac6-f13b1edf3ee4",
   "metadata": {},
   "outputs": [
    {
     "data": {
      "text/plain": [
       "LGBMClassifier(random_seed=42)"
      ]
     },
     "execution_count": 85,
     "metadata": {},
     "output_type": "execute_result"
    }
   ],
   "source": [
    "model.fit(x_train,y_train)"
   ]
  },
  {
   "cell_type": "code",
   "execution_count": 86,
   "id": "8ed65305-523a-4cb9-838a-bc3509623c4d",
   "metadata": {},
   "outputs": [],
   "source": [
    "y_pred = model.predict(x_test)"
   ]
  },
  {
   "cell_type": "code",
   "execution_count": 87,
   "id": "12d87375-e322-42eb-a709-0d40e51ec127",
   "metadata": {},
   "outputs": [
    {
     "data": {
      "text/plain": [
       "0.948321388155413"
      ]
     },
     "execution_count": 87,
     "metadata": {},
     "output_type": "execute_result"
    }
   ],
   "source": [
    "from sklearn.metrics import accuracy_score\n",
    "accuracy = accuracy_score(y_test, y_pred)\n",
    "accuracy"
   ]
  },
  {
   "cell_type": "markdown",
   "id": "bd0a30a7-caad-47fa-9fbf-21f9334eeff0",
   "metadata": {},
   "source": [
    "### Generalize the model on all the train set:"
   ]
  },
  {
   "cell_type": "code",
   "execution_count": 88,
   "id": "ffde37da-1195-408a-83e3-5b695277771d",
   "metadata": {},
   "outputs": [
    {
     "data": {
      "text/plain": [
       "0.0    0.986253\n",
       "1.0    0.013747\n",
       "Name: Target, dtype: float64"
      ]
     },
     "execution_count": 88,
     "metadata": {},
     "output_type": "execute_result"
    }
   ],
   "source": [
    "train['Target'].value_counts(normalize=True)"
   ]
  },
  {
   "cell_type": "code",
   "execution_count": 89,
   "id": "da5b2d5f-1c1b-4ef9-8034-e9fccd170ef9",
   "metadata": {
    "tags": []
   },
   "outputs": [],
   "source": [
    "filt = train['Target'] == 1\n",
    "s = train[filt]\n",
    "for i in range(70):\n",
    "    train=train.append(s)"
   ]
  },
  {
   "cell_type": "code",
   "execution_count": 90,
   "id": "b2015eae-6614-4ea1-86a9-88bddc3c1ea6",
   "metadata": {},
   "outputs": [
    {
     "data": {
      "text/plain": [
       "0.0    0.5026\n",
       "1.0    0.4974\n",
       "Name: Target, dtype: float64"
      ]
     },
     "execution_count": 90,
     "metadata": {},
     "output_type": "execute_result"
    }
   ],
   "source": [
    "train['Target'].value_counts(normalize=True)"
   ]
  },
  {
   "cell_type": "markdown",
   "id": "196307b7-49d5-44b6-ba17-f617204eacc9",
   "metadata": {},
   "source": [
    "#### Shuffle the data"
   ]
  },
  {
   "cell_type": "code",
   "execution_count": 91,
   "id": "d2d5d553-38b1-4787-b794-c4df81666165",
   "metadata": {},
   "outputs": [],
   "source": [
    "train=train.sample(frac=1.0)"
   ]
  },
  {
   "cell_type": "markdown",
   "id": "7fd246b3",
   "metadata": {},
   "source": [
    "Use the feature selected previously"
   ]
  },
  {
   "cell_type": "code",
   "execution_count": 92,
   "id": "f73454cf-cdc5-4350-b4dc-556c8a0eaefa",
   "metadata": {},
   "outputs": [],
   "source": [
    "target = train['Target']\n",
    "train = train[selected_features]\n",
    "train['Target'] = target"
   ]
  },
  {
   "cell_type": "markdown",
   "id": "398d69c2-7b5e-443a-8ce4-c0fcfb805315",
   "metadata": {},
   "source": [
    "#### Modeling"
   ]
  },
  {
   "cell_type": "code",
   "execution_count": 93,
   "id": "b53578d9-a8f5-4546-b44b-05c92ff4951d",
   "metadata": {},
   "outputs": [
    {
     "data": {
      "text/plain": [
       "LGBMClassifier(n_estimators=1000, random_seed=42)"
      ]
     },
     "execution_count": 93,
     "metadata": {},
     "output_type": "execute_result"
    }
   ],
   "source": [
    "model = LGBMClassifier(random_seed=42, n_estimators=1000)\n",
    "model.fit(train.drop('Target', axis=1), train['Target'])"
   ]
  },
  {
   "cell_type": "code",
   "execution_count": 94,
   "id": "624c8ab5-95e9-4596-ace7-5c8dcfde2034",
   "metadata": {},
   "outputs": [],
   "source": [
    "test = test[selected_features]"
   ]
  },
  {
   "cell_type": "code",
   "execution_count": 95,
   "id": "a9c584c5-fcd7-43cc-a50f-00ca68fac295",
   "metadata": {
    "tags": []
   },
   "outputs": [],
   "source": [
    "y = model.predict(test)"
   ]
  },
  {
   "cell_type": "code",
   "execution_count": 96,
   "id": "6191b784-90b0-4004-a066-5e79de70027a",
   "metadata": {},
   "outputs": [],
   "source": [
    "test['Target']=y"
   ]
  },
  {
   "cell_type": "code",
   "execution_count": 97,
   "id": "b3ea4051-2c27-439c-9148-5e8aeff73ca1",
   "metadata": {},
   "outputs": [
    {
     "data": {
      "text/plain": [
       "0.0    0.959836\n",
       "1.0    0.040164\n",
       "Name: Target, dtype: float64"
      ]
     },
     "execution_count": 97,
     "metadata": {},
     "output_type": "execute_result"
    }
   ],
   "source": [
    "test['Target'].value_counts(normalize=True)"
   ]
  },
  {
   "cell_type": "code",
   "execution_count": 98,
   "id": "57f36a8f-9e03-4871-9352-22e7cd0f6920",
   "metadata": {},
   "outputs": [],
   "source": [
    "for index in submission.index :\n",
    "    ind = submission.loc[index, 'id']\n",
    "    target = test.loc[ind, 'Target']\n",
    "    submission.loc[index, 'cat'] = target"
   ]
  },
  {
   "cell_type": "code",
   "execution_count": 99,
   "id": "b6bec58e-6c4c-4d20-be66-f14e5b8a7cba",
   "metadata": {},
   "outputs": [],
   "source": [
    "for index in submission.index:\n",
    "    if submission.loc[index,'cat'] == 1:\n",
    "        submission.loc[index,'cat'] = 'buy'\n",
    "    else:\n",
    "        submission.loc[index,'cat'] = 'not buy'"
   ]
  },
  {
   "cell_type": "code",
   "execution_count": 100,
   "id": "4be16888-d3ee-4bf2-a97e-39d875222d5a",
   "metadata": {},
   "outputs": [
    {
     "data": {
      "text/plain": [
       "not buy    0.684396\n",
       "buy        0.315604\n",
       "Name: cat, dtype: float64"
      ]
     },
     "execution_count": 100,
     "metadata": {},
     "output_type": "execute_result"
    }
   ],
   "source": [
    "submission['cat'].value_counts(normalize=True)"
   ]
  },
  {
   "cell_type": "code",
   "execution_count": 101,
   "id": "639fdc86-8167-451b-b0dd-916513291f03",
   "metadata": {},
   "outputs": [],
   "source": [
    "submission.to_csv('late_submission4.csv', index=False)"
   ]
  }
 ],
 "metadata": {
  "kernelspec": {
   "display_name": "Python 3 (ipykernel)",
   "language": "python",
   "name": "python3"
  },
  "language_info": {
   "codemirror_mode": {
    "name": "ipython",
    "version": 3
   },
   "file_extension": ".py",
   "mimetype": "text/x-python",
   "name": "python",
   "nbconvert_exporter": "python",
   "pygments_lexer": "ipython3",
   "version": "3.9.13"
  }
 },
 "nbformat": 4,
 "nbformat_minor": 5
}
